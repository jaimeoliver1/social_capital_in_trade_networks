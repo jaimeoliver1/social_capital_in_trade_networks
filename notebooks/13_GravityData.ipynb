{
 "cells": [
  {
   "cell_type": "markdown",
   "metadata": {},
   "source": [
    "## Gravity data\n",
    "We leverage the gravity dataset provided by CEPII: http://www.cepii.fr/cepii/en/bdd_modele/presentation.asp?id=8\n",
    "\n",
    "Cite: \n",
    "- Head, K., Mayer, T. & Ries, J. (2010), The erosion of colonial trade linkages after independence. Journal of International Economics, 81(1):1-14\n",
    "- Head, K. and T. Mayer, (2014), \"Gravity Equations: Toolkit, Cookbook, Workhorse.\" Handbook of International Economics, Vol. 4,eds. Gopinath, Helpman, and Rogoff, Elsevier. "
   ]
  },
  {
   "cell_type": "code",
   "execution_count": 1,
   "metadata": {},
   "outputs": [],
   "source": [
    "try:\n",
    "    output_filepath\n",
    "except:\n",
    "    output_filepath = 's3://workspaces-clarity-mgmt-pro/jaime.oliver/misc/social_capital/data/processed/'\n",
    "    input_filepath = 's3://workspaces-clarity-mgmt-pro/jaime.oliver/misc/social_capital/data/raw/'"
   ]
  },
  {
   "cell_type": "code",
   "execution_count": 4,
   "metadata": {},
   "outputs": [],
   "source": [
    "import pandas as pd\n",
    "import os"
   ]
  },
  {
   "cell_type": "code",
   "execution_count": 8,
   "metadata": {},
   "outputs": [
    {
     "name": "stderr",
     "output_type": "stream",
     "text": [
      "/home/ubuntu/.local/lib/python3.7/site-packages/IPython/core/interactiveshell.py:3146: DtypeWarning: Columns (33) have mixed types.Specify dtype option on import or set low_memory=False.\n",
      "  interactivity=interactivity, compiler=compiler, result=result)\n"
     ]
    }
   ],
   "source": [
    "df_gravity = pd.read_csv(os.path.join(input_filepath, 'Gravity_csv_V202102', 'Gravity_V202102.csv'))"
   ]
  },
  {
   "cell_type": "code",
   "execution_count": null,
   "metadata": {},
   "outputs": [],
   "source": [
    "trade_facilitation_unilateral_variables = [\n",
    "    'gatt', # Dummy equal to 1 if country is a GATT member in a given year, unilateral.\n",
    "    'wto', # Dummy equal to 1 if country is a WTO member in a given year, unilateral.\n",
    "    'eu', #Dummy equal to 1 if country is a EU member in a given year, unilateral.\n",
    "    'entry_cost', # Cost of business start-up procedures (% of GNI per capita), unilateral.\n",
    "    'entry_proc', # Number of start-up procedures to register a business, unilateral.\n",
    "    'entry_time', # Days required to start a business, unilateral.\n",
    "    'entry_tp', # Days required to start a business + number of procedures to start a business, unilateral\n",
    "]"
   ]
  },
  {
   "cell_type": "code",
   "execution_count": 29,
   "metadata": {},
   "outputs": [],
   "source": [
    "trade_facilitation_bilateral_variables = [\n",
    "    'rta', # Dummy equal to 1 if origin and destination country are engaged in a regional trade agreement of any type within the given year (Source: WTO), bilateral.\n",
    "    'rta_coverage', # Coverage of the trade agreement. 0 = “no trade agreement” (r ta = 0). 1 = “goods only”, 2 = “services only”, 3 = “goods and services”. Source: WTO, bilateral.\n",
    "    'rta_type', # Categorical variable describing type of regional trade agreement if origin and destination country are engaged in a regional trade agreement within the given year and rta = 1 (Source: WTO, see Table ?? for a description of the values taken by this variable), bilateral.    \n",
    "]\n",
    "\n",
    "geographic_bilateral_variables = [\n",
    "    'contig', # Dummy equal to 1 if countries are contiguous, bilateral.\n",
    "    'dist', # Distance between most populated city of each country, measured in km, bilateral.\n",
    "    'distw', # Population-weighted distance between most populated cities, measured in km, bilateral\n",
    "    'distcap', # Distance between capitals, measured in km, bilateral\n",
    "    'distwces', #  Population-weighted distance between most populated cities, measured in km, calculated using CES formulation with θ = −1 (see Head and Mayer 2010 for more details), bilateral.\n",
    "]\n",
    "\n",
    "cultural_bilateral_variables = [\n",
    "    'comlang_off', # Dummy equal to 1 if countries share common official or primary language, bilateral.\n",
    "    'comlang_ethno', # Dummy equal to 1 if countries share a common language spoken by at least 9% of the population, bilateral.\n",
    "    'comcol', # Dummy equal to 1 if countries share a common colonizer post 1945, bilateral.\n",
    "    'col45', # Dummy equal to 1 if countries are or were in colonial relationship post 1945, bilateral.\n",
    "    'comleg_pretrans', # Dummy equal to 1 if countries share common legal origins before transition, bilateral.\n",
    "    'comleg_posttrans', # Dummy equal to 1 if countries share common legal origins after transition, bilateral.\n",
    "    'transition_legalchange', # Dummy equal to 1 if common legal origin has changed since the above-mentioned transition, bilateral.\n",
    "    'comrelig', # Religious proximity index (Disdier and Mayer 2007): obtained by adding the products of the shares of Catholics, Protestants and Muslims in the exporting and importing countries. It is bounded between 0 and 1, and is maximum if the country pair has a religion which (1) comprises a vast majority of the population, and (2) is the same in both countries.\n",
    "    'heg_o', # Dummy equal to 1 if origin is current or former hegemon of destination, bilateral.\n",
    "    'heg_d', # Dummy equal to 1 if destination is current or former hegemon of origin, bilateral.\n",
    "    'col_dep_ever', # Dummy equal to 1 if country pair was ever in colonial relationship. This variable also takes into account colonial relationships before 1948 and is a bilateral variable.\n",
    "    'col_dep', # Dummy equal to 1 if country pair currently in colonial or dependency relationship, bilateral.\n",
    "    'col_dep_end_year', # Independence date from hegemon of the time, if pair was ever in a colonial or dependency relationship (col_dep_ever is equal to 1). Missing if the pair never was in a colonial or dependency relationship (col_dep_ever = 0). This variable also takes into account colonial relationships before 1948 and is a bilateral variable.\n",
    "    'col_dep_end_conflict', # Dummy equal to 1 if independence involved conflict and ifcol_dep_ever is equal to 1. Missing if the pair never was in a colonial or dependency relationship (col_dep_ever = 0). This variable also takes into account colonial relationships before 1948 and is a bilateral variable.\n",
    "    'sibling_ever', # Dummy equal to 1 if pair ever in sibling relationship (i.e. they ever had th same hegemon). This variable also takes into account colonial relationships before 1948 and is a bilateral variable. 13\n",
    "    'sibling', # Dummy equal to 1 if pair currently in sibling relationship (i.e. they have the same hegemon), bilateral.\n",
    "    'empire', # Hegemon if sibling equal to 1 for the time that country i and j are in current sibling relationship (i.e. year is smaller than sever_year), bilateral.\n",
    "    'sever_year', # Severance year for pairs if sibling_ever is equal to 1. Severance year corresponds to the year in which the first sibling in the sibling relationship became independent. This variable also takes into account colonial relationships before 1948 and is a bilateral variable.\n",
    "    'sib_conflict', #Dummy equal to 1 if pair ever in sibling relationship (sibling_ever = 1) and their independence from the hegemon involved conflict with hegemon. This variable also takes into account colonial relationships before 1948 and is a bilateral variable.\n",
    "] "
   ]
  }
 ],
 "metadata": {
  "kernelspec": {
   "display_name": "Python 3",
   "language": "python",
   "name": "python3"
  },
  "language_info": {
   "codemirror_mode": {
    "name": "ipython",
    "version": 3
   },
   "file_extension": ".py",
   "mimetype": "text/x-python",
   "name": "python",
   "nbconvert_exporter": "python",
   "pygments_lexer": "ipython3",
   "version": "3.7.4"
  }
 },
 "nbformat": 4,
 "nbformat_minor": 2
}
