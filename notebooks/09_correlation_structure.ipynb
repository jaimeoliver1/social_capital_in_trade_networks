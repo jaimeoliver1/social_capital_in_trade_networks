{
 "cells": [
  {
   "cell_type": "code",
   "execution_count": 2,
   "metadata": {},
   "outputs": [],
   "source": [
    "try:\n",
    "    output_filepath\n",
    "except:\n",
    "    output_filepath = '../data/processed/'"
   ]
  },
  {
   "cell_type": "code",
   "execution_count": null,
   "metadata": {},
   "outputs": [],
   "source": [
    "import os\n",
    "from pathlib import Path\n",
    "\n",
    "import pandas as pd\n",
    "import seaborn as sns\n",
    "sns.set_theme()"
   ]
  },
  {
   "cell_type": "code",
   "execution_count": null,
   "metadata": {},
   "outputs": [],
   "source": [
    "data_path = os.path.join(output_filepath, 'panel_data.parquet')\n",
    "df_model = pd.read_parquet(data_path)\n",
    "centralities = ['pagerank', 'gfi', 'bridging', 'favor']"
   ]
  },
  {
   "cell_type": "code",
   "execution_count": null,
   "metadata": {},
   "outputs": [],
   "source": [
    "df = df_model.pivot_table(index='year', columns='country', values = 'financial_pagerank')"
   ]
  },
  {
   "cell_type": "code",
   "execution_count": null,
   "metadata": {},
   "outputs": [],
   "source": [
    "# Draw the full plot\n",
    "g = sns.clustermap(df.corr().fillna(0), \n",
    "                   center=0, \n",
    "                   cmap=\"vlag\",\n",
    "                   dendrogram_ratio=(.1, .2),\n",
    "                   cbar_pos=(.02, .32, .03, .2),\n",
    "                   linewidths=.75, \n",
    "                   figsize=(12, 13), \n",
    "                   xticklabels=True, \n",
    "                   yticklabels=True)\n",
    "\n",
    "g.ax_row_dendrogram.remove()\n",
    "\n",
    "save_to = os.path.join(Path(output_filepath).parent.parent.resolve(), 'reports', 'figures', 'correlation_structure.png')\n",
    "plt.savefig(save_to)     "
   ]
  }
 ],
 "metadata": {
  "kernelspec": {
   "display_name": "Python 3",
   "language": "python",
   "name": "python3"
  },
  "language_info": {
   "codemirror_mode": {
    "name": "ipython",
    "version": 3
   },
   "file_extension": ".py",
   "mimetype": "text/x-python",
   "name": "python",
   "nbconvert_exporter": "python",
   "pygments_lexer": "ipython3",
   "version": "3.7.7-final"
  }
 },
 "nbformat": 4,
 "nbformat_minor": 2
}