{
 "cells": [
  {
   "cell_type": "markdown",
   "metadata": {},
   "source": [
    "## Social capital\n",
    "\n",
    "There are currently 2 faces of the same coin: \n",
    "- Complexity economics points to the fact that the trade network topology has an effect on GDP, inequality, etc (they look at the bipartite network of countries products)\n",
    "- Jackson theoretically argues that there is another type of capital called \\textit{social capital}. This social capital is related to network centrality. [https://papers.ssrn.com/sol3/papers.cfm?abstract_id=3073496]\n",
    "\n",
    "**Hypothesis:** social capital captures topological information about the trade network, something that the index of economic complexity is doing at the end of the day. \n",
    "\n",
    "\n",
    "Classical Cobb-Douglass production functions in macroeconomics \n",
    "\n",
    "$$GDP = A\\cdot K^{\\alpha} \\cdot L^{\\beta}$$\n",
    "\n",
    "or \n",
    "\n",
    "$$\\log(GDP) = \\log(A) + \\alpha\\cdot\\log(K)  + \\beta\\cdot\\log(L)$$\n",
    "\n",
    "With our trade and migration networks we can include the social capital measures of centrality\n",
    "\n",
    "$$\\log(GDP) = \\log(A) + \\alpha\\cdot\\log(K)  + \\beta\\cdot\\log(L) + \\gamma_1\\cdot\\log(social capital (financial)) + \\gamma_2\\cdot\\log(social capital (human))$$\n",
    "\n",
    "### Types of capital\n",
    "- Information capital: decay centrality --> when $T\\rightarrow\\infty$ eigenvector centrality --> pagerank for weighted directed graph \n",
    "- Brokerage, Coordination, and Leadership Capital --> Godfather index\n",
    "- Bridging Capital --> not implemented\n",
    "- Favor Capital and Support --> *counting the number of friends that a person has who are supported by a friend in common* (not implemented)\n",
    "\n",
    "### Findings so far\n",
    "- Social capital (both financial and human) is significantly related to a country's GDP\n",
    "- Both information and Brokerage-Coordination-Leadership Capital are relevant\n",
    "- The delta of this magnitudes from year to year also explains the delta in GDP\n",
    "\n",
    "### TODOs:\n",
    "- Classical production function. What is the present model?\n",
    "- What is that we need to add to the current model? --> social capital (not included in financial capital)\n",
    "- Extra Jackson social capital measures (Bridging + favor capital)\n",
    "- Industry network\n",
    "- Time series analysis"
   ]
  },
  {
   "cell_type": "code",
   "execution_count": 1,
   "metadata": {},
   "outputs": [],
   "source": [
    "%load_ext autoreload\n",
    "%autoreload 2"
   ]
  },
  {
   "cell_type": "code",
   "execution_count": 2,
   "metadata": {},
   "outputs": [],
   "source": [
    "import pandas as pd\n",
    "\n",
    "import numpy as np\n",
    "\n",
    "import patsy\n",
    "import statsmodels.api as sm\n",
    "from linearmodels import PanelOLS\n",
    "from linearmodels import RandomEffects\n",
    "from linearmodels.panel import BetweenOLS, PooledOLS, compare\n",
    "\n",
    "from linearmodels import IV2SLS\n",
    "\n",
    "import seaborn as sns\n",
    "import matplotlib.pyplot as plt"
   ]
  },
  {
   "cell_type": "code",
   "execution_count": 3,
   "metadata": {},
   "outputs": [],
   "source": [
    "df_model = pd.read_parquet('data_model.parquet')\n",
    "centralities = ['pagerank', 'gfi', 'bridging', 'favor']"
   ]
  },
  {
   "cell_type": "code",
   "execution_count": 4,
   "metadata": {},
   "outputs": [
    {
     "data": {
      "image/png": "[encoded data removed]",
      "text/plain": [
       "<Figure size 432x288 with 2 Axes>"
      ]
     },
     "metadata": {
      "needs_background": "light"
     },
     "output_type": "display_data"
    }
   ],
   "source": [
    "corr_cols = ['log_output', 'log_gdp', 'log_GFCF', 'log_wkn_population'] + ['financial_' + c for c in centralities] + ['human_' + c for c in centralities]\n",
    "\n",
    "corr = df_model[corr_cols].corr()\n",
    "\n",
    "# plot the heatmap\n",
    "sns.heatmap(corr, cmap=\"ocean\",\n",
    "        xticklabels=corr.columns,\n",
    "        yticklabels=corr.columns,)\n",
    "\n",
    "# fix for mpl bug that cuts off top/bottom of seaborn viz\n",
    "b, t = plt.ylim() # discover the values for bottom and top\n",
    "b += 0.7 # Add 0.5 to the bottom\n",
    "t -= 0.7 # Subtract 0.5 from the top\n",
    "plt.ylim(b, t) # update the ylim(bottom, top) values\n",
    "plt.show() # ta-da!"
   ]
  },
  {
   "cell_type": "code",
   "execution_count": null,
   "metadata": {},
   "outputs": [
    {
     "data": {
      "text/plain": [
       "<seaborn.axisgrid.PairGrid at 0x7fa7c3592950>"
      ]
     },
     "execution_count": 5,
     "metadata": {},
     "output_type": "execute_result"
    }
   ],
   "source": [
    "sns.pairplot(df_model[corr_cols])"
   ]
  },
  {
   "cell_type": "markdown",
   "metadata": {},
   "source": [
    "## Simultaneous model capital and migration"
   ]
  },
  {
   "cell_type": "code",
   "execution_count": null,
   "metadata": {},
   "outputs": [],
   "source": [
    "from sklearn.decomposition import PCA\n",
    "pca = PCA(n_components=1)\n",
    "\n",
    "df_model['financial_pca'] = pca.fit_transform(df_model[['financial_' + c for c in centralities]])\n",
    "print(pca.explained_variance_ratio_)\n",
    "\n",
    "df_model['human_pca'] = pca.fit_transform(df_model[['human_' + c for c in centralities]])\n",
    "print(pca.explained_variance_ratio_)"
   ]
  },
  {
   "cell_type": "code",
   "execution_count": null,
   "metadata": {},
   "outputs": [],
   "source": [
    "f = 'log_gdp ~ financial_pca + human_pca + log_GFCF + log_wkn_population + 1'\n",
    "y, X = patsy.dmatrices(f, df_model.set_index(['country','year']),  return_type='dataframe')\n",
    "\n",
    "model = RandomEffects(y,X)\n",
    "results = model.fit()\n",
    "results.summary"
   ]
  },
  {
   "cell_type": "code",
   "execution_count": null,
   "metadata": {},
   "outputs": [],
   "source": [
    "all_terms_list = ['financial_' + c for c in centralities] + ['human_' + c for c in centralities]\n",
    "all_terms = ' + '.join(all_terms_list)\n",
    "\n",
    "f = f'log_gdp ~ {all_terms} + log_GFCF + log_wkn_population + 1'\n",
    "y, X = patsy.dmatrices(f, df_model.set_index(['country','year']),  return_type='dataframe')\n",
    "model = RandomEffects(y,X)\n",
    "results_combined_model = model.fit()\n",
    "\n",
    "df_results = pd.DataFrame(results_combined_model.params).reset_index()\n",
    "df_results['pvalues'] = results_combined_model.pvalues.values\n",
    "df_results['show_value'] = df_results.apply(lambda x: f'{round(x.parameter,4)} ({round(x.pvalues, 5)})', axis=1)\n",
    "df_results = df_results[~df_results['index'].isin(['Intercept','log_GFCF','log_wkn_population'])]\n",
    "df_results['network'], df_results['capital'] = zip(*df_results['index'].map(lambda x: (x.split('_')[0], x.split('_')[1])))\n",
    "df_results.pivot_table(index='network', columns = 'capital', values = 'show_value', aggfunc=np.unique)"
   ]
  },
  {
   "cell_type": "code",
   "execution_count": null,
   "metadata": {},
   "outputs": [],
   "source": [
    "all_results = []\n",
    "for c in centralities: \n",
    "\n",
    "    f = f'log_gdp ~ financial_{c} + human_{c} + log_GFCF + log_wkn_population + 1'\n",
    "    y, X = patsy.dmatrices(f, df_model.set_index(['country','year']),  return_type='dataframe')\n",
    "    model = RandomEffects(y,X)\n",
    "    all_results.append(model.fit())\n",
    "\n",
    "\n",
    "all_terms_list = ['financial_' + c for c in centralities] + ['human_' + c for c in centralities]\n",
    "all_terms = ' + '.join(all_terms_list)\n",
    "\n",
    "f = f'log_gdp ~ {all_terms} + log_GFCF + log_wkn_population + 1'\n",
    "y, X = patsy.dmatrices(f, df_model.set_index(['country','year']),  return_type='dataframe')\n",
    "model = RandomEffects(y,X)\n",
    "results_combined_model = model.fit()\n",
    "\n",
    "all_models = dict(zip(centralities, all_results))\n",
    "all_models['all'] = results_combined_model\n",
    "\n",
    "compare(all_models)"
   ]
  },
  {
   "cell_type": "code",
   "execution_count": null,
   "metadata": {},
   "outputs": [],
   "source": [
    "f = f'log_gdp ~ {all_terms} + log_GFCF + log_wkn_population + 1'\n",
    "y, X = patsy.dmatrices(f, df_model.set_index(['country','year']),  return_type='dataframe')\n",
    "\n",
    "be_res = BetweenOLS(y,X)\n",
    "be_res = model.fit()\n",
    "\n",
    "model = PooledOLS(y,X)\n",
    "pooled_res = model.fit()\n",
    "\n",
    "model = RandomEffects(y,X)\n",
    "re_res = model.fit()\n",
    "\n",
    "compare({'BE':be_res,'RE':re_res,'Pooled':pooled_res})"
   ]
  },
  {
   "cell_type": "markdown",
   "metadata": {},
   "source": [
    "## Growth prediction"
   ]
  },
  {
   "cell_type": "code",
   "execution_count": null,
   "metadata": {},
   "outputs": [],
   "source": [
    "from pandas.plotting import autocorrelation_plot\n",
    "df_country = df_model[df_model.country == 'ARG']\n",
    "autocorrelation_plot(df_country.log_output)"
   ]
  },
  {
   "cell_type": "code",
   "execution_count": null,
   "metadata": {},
   "outputs": [],
   "source": [
    "f = 'delta_log_output ~ lag_financial_pagerank + lag_human_gfi + lag_log_output  + 1'\n",
    "y, X = patsy.dmatrices(f, df_model.set_index(['country','year']),  return_type='dataframe')\n",
    "\n",
    "model = RandomEffects(y,X)\n",
    "results = model.fit()\n",
    "results.summary"
   ]
  },
  {
   "cell_type": "code",
   "execution_count": null,
   "metadata": {},
   "outputs": [],
   "source": [
    "model = IV2SLS(df_model.delta_log_output, df_model[['delta_financial_gfi', 'delta_human_gfi', 'constant']], df_model.lag_log_output, df_model.lag_log2_output)\n",
    "results = model.fit()\n",
    "results.summary"
   ]
  }
 ],
 "metadata": {
  "kernelspec": {
   "display_name": "Python 3",
   "language": "python",
   "name": "python3"
  },
  "language_info": {
   "codemirror_mode": {
    "name": "ipython",
    "version": 3
   },
   "file_extension": ".py",
   "mimetype": "text/x-python",
   "name": "python",
   "nbconvert_exporter": "python",
   "pygments_lexer": "ipython3",
   "version": "3.7.4"
  }
 },
 "nbformat": 4,
 "nbformat_minor": 2
}
