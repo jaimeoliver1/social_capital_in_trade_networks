{
 "cells": [
  {
   "cell_type": "code",
   "execution_count": 1,
   "metadata": {},
   "outputs": [],
   "source": [
    "try:\n",
    "    output_filepath\n",
    "except:\n",
    "    output_filepath = 's3://workspaces-clarity-mgmt-pro/jaime.oliver/misc/social_capital/data/processed/'"
   ]
  },
  {
   "cell_type": "code",
   "execution_count": 2,
   "metadata": {},
   "outputs": [
    {
     "name": "stderr",
     "output_type": "stream",
     "text": [
      "/usr/local/anaconda/lib/python3.7/site-packages/tensorflow/python/framework/dtypes.py:516: FutureWarning: Passing (type, 1) or '1type' as a synonym of type is deprecated; in a future version of numpy, it will be understood as (type, (1,)) / '(1,)type'.\n",
      "  _np_qint8 = np.dtype([(\"qint8\", np.int8, 1)])\n",
      "/usr/local/anaconda/lib/python3.7/site-packages/tensorflow/python/framework/dtypes.py:517: FutureWarning: Passing (type, 1) or '1type' as a synonym of type is deprecated; in a future version of numpy, it will be understood as (type, (1,)) / '(1,)type'.\n",
      "  _np_quint8 = np.dtype([(\"quint8\", np.uint8, 1)])\n",
      "/usr/local/anaconda/lib/python3.7/site-packages/tensorflow/python/framework/dtypes.py:518: FutureWarning: Passing (type, 1) or '1type' as a synonym of type is deprecated; in a future version of numpy, it will be understood as (type, (1,)) / '(1,)type'.\n",
      "  _np_qint16 = np.dtype([(\"qint16\", np.int16, 1)])\n",
      "/usr/local/anaconda/lib/python3.7/site-packages/tensorflow/python/framework/dtypes.py:519: FutureWarning: Passing (type, 1) or '1type' as a synonym of type is deprecated; in a future version of numpy, it will be understood as (type, (1,)) / '(1,)type'.\n",
      "  _np_quint16 = np.dtype([(\"quint16\", np.uint16, 1)])\n",
      "/usr/local/anaconda/lib/python3.7/site-packages/tensorflow/python/framework/dtypes.py:520: FutureWarning: Passing (type, 1) or '1type' as a synonym of type is deprecated; in a future version of numpy, it will be understood as (type, (1,)) / '(1,)type'.\n",
      "  _np_qint32 = np.dtype([(\"qint32\", np.int32, 1)])\n",
      "/usr/local/anaconda/lib/python3.7/site-packages/tensorflow/python/framework/dtypes.py:525: FutureWarning: Passing (type, 1) or '1type' as a synonym of type is deprecated; in a future version of numpy, it will be understood as (type, (1,)) / '(1,)type'.\n",
      "  np_resource = np.dtype([(\"resource\", np.ubyte, 1)])\n",
      "/usr/local/anaconda/lib/python3.7/site-packages/tensorboard/compat/tensorflow_stub/dtypes.py:541: FutureWarning: Passing (type, 1) or '1type' as a synonym of type is deprecated; in a future version of numpy, it will be understood as (type, (1,)) / '(1,)type'.\n",
      "  _np_qint8 = np.dtype([(\"qint8\", np.int8, 1)])\n",
      "/usr/local/anaconda/lib/python3.7/site-packages/tensorboard/compat/tensorflow_stub/dtypes.py:542: FutureWarning: Passing (type, 1) or '1type' as a synonym of type is deprecated; in a future version of numpy, it will be understood as (type, (1,)) / '(1,)type'.\n",
      "  _np_quint8 = np.dtype([(\"quint8\", np.uint8, 1)])\n",
      "/usr/local/anaconda/lib/python3.7/site-packages/tensorboard/compat/tensorflow_stub/dtypes.py:543: FutureWarning: Passing (type, 1) or '1type' as a synonym of type is deprecated; in a future version of numpy, it will be understood as (type, (1,)) / '(1,)type'.\n",
      "  _np_qint16 = np.dtype([(\"qint16\", np.int16, 1)])\n",
      "/usr/local/anaconda/lib/python3.7/site-packages/tensorboard/compat/tensorflow_stub/dtypes.py:544: FutureWarning: Passing (type, 1) or '1type' as a synonym of type is deprecated; in a future version of numpy, it will be understood as (type, (1,)) / '(1,)type'.\n",
      "  _np_quint16 = np.dtype([(\"quint16\", np.uint16, 1)])\n",
      "/usr/local/anaconda/lib/python3.7/site-packages/tensorboard/compat/tensorflow_stub/dtypes.py:545: FutureWarning: Passing (type, 1) or '1type' as a synonym of type is deprecated; in a future version of numpy, it will be understood as (type, (1,)) / '(1,)type'.\n",
      "  _np_qint32 = np.dtype([(\"qint32\", np.int32, 1)])\n",
      "/usr/local/anaconda/lib/python3.7/site-packages/tensorboard/compat/tensorflow_stub/dtypes.py:550: FutureWarning: Passing (type, 1) or '1type' as a synonym of type is deprecated; in a future version of numpy, it will be understood as (type, (1,)) / '(1,)type'.\n",
      "  np_resource = np.dtype([(\"resource\", np.ubyte, 1)])\n"
     ]
    }
   ],
   "source": [
    "import os\n",
    "from pathlib import Path\n",
    "\n",
    "import pandas as pd\n",
    "import numpy as np\n",
    "import matplotlib.pyplot as plt\n",
    "\n",
    "from utils import data_loader\n",
    "\n",
    "from sklearn.preprocessing import FunctionTransformer, OneHotEncoder\n",
    "from sklearn.impute import SimpleImputer\n",
    "from sklearn.pipeline import Pipeline\n",
    "from sklearn.compose import TransformedTargetRegressor\n",
    "from sklearn.linear_model import ElasticNet\n",
    "from sklearn.model_selection import train_test_split\n",
    "from sklearn.model_selection import GridSearchCV\n",
    "from sklearn.compose import ColumnTransformer, make_column_selector\n",
    "\n",
    "import statsmodels.api as sm\n",
    "\n",
    "from sklearn.ensemble import GradientBoostingRegressor\n",
    "from yellowbrick.regressor import ResidualsPlot, PredictionError\n",
    "\n",
    "import shap\n",
    "plt.rcParams['savefig.facecolor']='white'"
   ]
  },
  {
   "cell_type": "code",
   "execution_count": 3,
   "metadata": {},
   "outputs": [],
   "source": [
    "reduced_terms_list, df_model = data_loader(output_filepath)\n",
    "df_model['year'] = df_model.year.astype(str)\n",
    "df_model = df_model.groupby('country').filter(lambda x: len(x)>1)"
   ]
  },
  {
   "cell_type": "code",
   "execution_count": 4,
   "metadata": {},
   "outputs": [],
   "source": [
    "controls = ['log_GFCF', 'log_wkn_population']\n",
    "x_labels = controls + reduced_terms_list + ['year','country']\n",
    "y_label = 'log_gdp'"
   ]
  },
  {
   "cell_type": "code",
   "execution_count": 5,
   "metadata": {},
   "outputs": [],
   "source": [
    "# Split\n",
    "X_train, X_test, y_train, y_test = train_test_split(df_model[x_labels], df_model[y_label], test_size=0.33, random_state=42, stratify=df_model[['country']] )"
   ]
  },
  {
   "cell_type": "markdown",
   "metadata": {},
   "source": [
    "## Lasso"
   ]
  },
  {
   "cell_type": "code",
   "execution_count": 6,
   "metadata": {},
   "outputs": [
    {
     "name": "stdout",
     "output_type": "stream",
     "text": [
      "Best estimator alpha = 0.1\n",
      "Best estimator intercept = 16.981160037292714\n"
     ]
    },
    {
     "data": {
      "text/html": [
       "<div>\n",
       "<style scoped>\n",
       "    .dataframe tbody tr th:only-of-type {\n",
       "        vertical-align: middle;\n",
       "    }\n",
       "\n",
       "    .dataframe tbody tr th {\n",
       "        vertical-align: top;\n",
       "    }\n",
       "\n",
       "    .dataframe thead th {\n",
       "        text-align: right;\n",
       "    }\n",
       "</style>\n",
       "<table border=\"1\" class=\"dataframe\">\n",
       "  <thead>\n",
       "    <tr style=\"text-align: right;\">\n",
       "      <th></th>\n",
       "      <th>variable</th>\n",
       "      <th>coefficient</th>\n",
       "    </tr>\n",
       "  </thead>\n",
       "  <tbody>\n",
       "    <tr>\n",
       "      <th>0</th>\n",
       "      <td>log_GFCF</td>\n",
       "      <td>0.003108</td>\n",
       "    </tr>\n",
       "    <tr>\n",
       "      <th>1</th>\n",
       "      <td>log_wkn_population</td>\n",
       "      <td>0.002540</td>\n",
       "    </tr>\n",
       "    <tr>\n",
       "      <th>3</th>\n",
       "      <td>financial_authorities</td>\n",
       "      <td>0.001148</td>\n",
       "    </tr>\n",
       "    <tr>\n",
       "      <th>5</th>\n",
       "      <td>goods_authorities</td>\n",
       "      <td>0.001104</td>\n",
       "    </tr>\n",
       "    <tr>\n",
       "      <th>135</th>\n",
       "      <td>country_MMR</td>\n",
       "      <td>0.000000</td>\n",
       "    </tr>\n",
       "    <tr>\n",
       "      <th>...</th>\n",
       "      <td>...</td>\n",
       "      <td>...</td>\n",
       "    </tr>\n",
       "    <tr>\n",
       "      <th>70</th>\n",
       "      <td>country_CRI</td>\n",
       "      <td>-0.000000</td>\n",
       "    </tr>\n",
       "    <tr>\n",
       "      <th>71</th>\n",
       "      <td>country_CUB</td>\n",
       "      <td>0.000000</td>\n",
       "    </tr>\n",
       "    <tr>\n",
       "      <th>195</th>\n",
       "      <td>country_ZWE</td>\n",
       "      <td>-0.000000</td>\n",
       "    </tr>\n",
       "    <tr>\n",
       "      <th>7</th>\n",
       "      <td>human_favor</td>\n",
       "      <td>-0.000945</td>\n",
       "    </tr>\n",
       "    <tr>\n",
       "      <th>129</th>\n",
       "      <td>country_MDA</td>\n",
       "      <td>-0.005481</td>\n",
       "    </tr>\n",
       "  </tbody>\n",
       "</table>\n",
       "<p>196 rows × 2 columns</p>\n",
       "</div>"
      ],
      "text/plain": [
       "                  variable  coefficient\n",
       "0                 log_GFCF     0.003108\n",
       "1       log_wkn_population     0.002540\n",
       "3    financial_authorities     0.001148\n",
       "5        goods_authorities     0.001104\n",
       "135            country_MMR     0.000000\n",
       "..                     ...          ...\n",
       "70             country_CRI    -0.000000\n",
       "71             country_CUB     0.000000\n",
       "195            country_ZWE    -0.000000\n",
       "7              human_favor    -0.000945\n",
       "129            country_MDA    -0.005481\n",
       "\n",
       "[196 rows x 2 columns]"
      ]
     },
     "execution_count": 6,
     "metadata": {},
     "output_type": "execute_result"
    }
   ],
   "source": [
    "from sklearn.linear_model import ElasticNet\n",
    "from sklearn.model_selection import GridSearchCV\n",
    "\n",
    "# Transform\n",
    "# Impute numeric values with median \n",
    "numeric_transformer = Pipeline(steps=[\n",
    "    ('imputer', SimpleImputer(strategy='median',add_indicator=True)),\n",
    "    ('transformer', FunctionTransformer(None, validate=False))])\n",
    "\n",
    "# Impute categorical features with 'missing' and one-hot-encode them\n",
    "categorical_transformer = Pipeline(steps=[\n",
    "    ('imputer', SimpleImputer(strategy='constant', \n",
    "                              fill_value='missing',\n",
    "                              add_indicator=True)),\n",
    "    ('onehot', OneHotEncoder(handle_unknown='ignore'))])\n",
    "\n",
    "# Combine all transformers in a single preprocessor\n",
    "preprocessor = ColumnTransformer(\n",
    "    transformers=[\n",
    "        ('num', numeric_transformer, make_column_selector(dtype_include=[\"float64\", \"int64\"])),\n",
    "        ('cat', categorical_transformer, make_column_selector(dtype_include=[\"object\"])),])\n",
    "\n",
    "regressor = Pipeline(steps=[ ('preprocessor', preprocessor),\n",
    "                             ('Lasso', ElasticNet())])\n",
    "\n",
    "param_grid = [\n",
    "  {'Lasso__alpha': np.arange(0.1,0.9,0.1), \n",
    "   'Lasso__l1_ratio': np.arange(0.1,0.9,0.1),\n",
    "   'Lasso__fit_intercept':[True],\n",
    "   'Lasso__normalize': [True],\n",
    "   'Lasso__selection':['cyclic', 'random'],\n",
    "   'Lasso__max_iter':[10000]}]\n",
    "\n",
    "reg = GridSearchCV(regressor, param_grid, scoring='r2')\n",
    "reg.fit(X_train, y_train)\n",
    "    \n",
    "\n",
    "print('Best estimator alpha =', reg.best_estimator_['Lasso'].alpha)\n",
    "\n",
    "print('Best estimator intercept =', reg.best_estimator_['Lasso'].intercept_)\n",
    "\n",
    "pd.DataFrame({'variable':controls + reduced_terms_list + list(reg.best_estimator_['preprocessor'].transformers_[1][1]['onehot'].get_feature_names(['year','country'])), \n",
    "              'coefficient':reg.best_estimator_['Lasso'].coef_}).sort_values(by='coefficient', ascending=False)"
   ]
  },
  {
   "cell_type": "code",
   "execution_count": 7,
   "metadata": {},
   "outputs": [
    {
     "data": {
      "text/plain": [
       "0.008739813860664691"
      ]
     },
     "execution_count": 7,
     "metadata": {},
     "output_type": "execute_result"
    }
   ],
   "source": [
    "reg.score(X_test, y_test)"
   ]
  },
  {
   "cell_type": "markdown",
   "metadata": {},
   "source": [
    "## LightGBM"
   ]
  },
  {
   "cell_type": "code",
   "execution_count": 8,
   "metadata": {},
   "outputs": [
    {
     "name": "stdout",
     "output_type": "stream",
     "text": [
      "Fitting 5 folds for each of 240 candidates, totalling 1200 fits\n"
     ]
    },
    {
     "name": "stderr",
     "output_type": "stream",
     "text": [
      "[Parallel(n_jobs=4)]: Using backend LokyBackend with 4 concurrent workers.\n",
      "[Parallel(n_jobs=4)]: Done  42 tasks      | elapsed:    3.1s\n",
      "[Parallel(n_jobs=4)]: Done 192 tasks      | elapsed:  1.8min\n",
      "[Parallel(n_jobs=4)]: Done 442 tasks      | elapsed:  4.8min\n",
      "[Parallel(n_jobs=4)]: Done 792 tasks      | elapsed:  9.4min\n",
      "[Parallel(n_jobs=4)]: Done 1200 out of 1200 | elapsed: 15.4min finished\n"
     ]
    },
    {
     "data": {
      "text/plain": [
       "GridSearchCV(cv=5,\n",
       "             estimator=TransformedTargetRegressor(regressor=Pipeline(steps=[('preprocessor',\n",
       "                                                                             ColumnTransformer(transformers=[('num',\n",
       "                                                                                                              Pipeline(steps=[('imputer',\n",
       "                                                                                                                               SimpleImputer(add_indicator=True,\n",
       "                                                                                                                                             strategy='median')),\n",
       "                                                                                                                              ('transformer',\n",
       "                                                                                                                               FunctionTransformer())]),\n",
       "                                                                                                              <sklearn.compose._column_transformer.make_column_selector object at 0x7f229c00d390>),\n",
       "                                                                                                             ('cat',\n",
       "                                                                                                              Pipel...\n",
       "             param_grid={'regressor__GradientBoostingRegressor__learning_rate': [0.5,\n",
       "                                                                                 0.1,\n",
       "                                                                                 0.05,\n",
       "                                                                                 0.01],\n",
       "                         'regressor__GradientBoostingRegressor__max_depth': [2,\n",
       "                                                                             3,\n",
       "                                                                             4],\n",
       "                         'regressor__GradientBoostingRegressor__max_features': ['auto'],\n",
       "                         'regressor__GradientBoostingRegressor__n_estimators': [10,\n",
       "                                                                                13,\n",
       "                                                                                18,\n",
       "                                                                                24,\n",
       "                                                                                33,\n",
       "                                                                                45,\n",
       "                                                                                61,\n",
       "                                                                                83,\n",
       "                                                                                112,\n",
       "                                                                                152,\n",
       "                                                                                206,\n",
       "                                                                                280,\n",
       "                                                                                379,\n",
       "                                                                                513,\n",
       "                                                                                695,\n",
       "                                                                                941,\n",
       "                                                                                1274,\n",
       "                                                                                1725,\n",
       "                                                                                2335,\n",
       "                                                                                3162],\n",
       "                         'regressor__GradientBoostingRegressor__subsample': [0.8]},\n",
       "             scoring='r2', verbose=1)"
      ]
     },
     "execution_count": 8,
     "metadata": {},
     "output_type": "execute_result"
    }
   ],
   "source": [
    "# Transform\n",
    "# Impute numeric values with median \n",
    "numeric_transformer = Pipeline(steps=[\n",
    "    ('imputer', SimpleImputer(strategy='median',add_indicator=True)),\n",
    "    ('transformer', FunctionTransformer(None, validate=False))])\n",
    "\n",
    "# Impute categorical features with 'missing' and one-hot-encode them\n",
    "categorical_transformer = Pipeline(steps=[\n",
    "    ('imputer', SimpleImputer(strategy='constant', \n",
    "                              fill_value='missing',\n",
    "                              add_indicator=True)),\n",
    "    ('onehot', OneHotEncoder(handle_unknown='ignore'))])\n",
    "\n",
    "# Combine all transformers in a single preprocessor\n",
    "preprocessor = ColumnTransformer(\n",
    "    transformers=[\n",
    "        ('num', numeric_transformer, make_column_selector(dtype_include=[\"float64\", \"int64\"])),\n",
    "        ('cat', categorical_transformer, make_column_selector(dtype_include=[\"object\"])),])\n",
    "\n",
    "regressor = Pipeline(steps=[ ('preprocessor', preprocessor),\n",
    "                             ('GradientBoostingRegressor', GradientBoostingRegressor())])\n",
    "\n",
    "model_pipe = TransformedTargetRegressor(regressor, func=None, inverse_func=None)\n",
    "\n",
    "params = {'regressor__GradientBoostingRegressor__max_depth':[2,3,4],\n",
    "          'regressor__GradientBoostingRegressor__learning_rate':[0.5,0.1,0.05, 0.01],\n",
    "          'regressor__GradientBoostingRegressor__n_estimators':[int(n) for n in np.logspace(1,3.5,20)],\n",
    "          'regressor__GradientBoostingRegressor__subsample':[0.8],\n",
    "          'regressor__GradientBoostingRegressor__max_features':['auto']}\n",
    "'''\n",
    "params = {'regressor__GradientBoostingRegressor__learning_rate': [0.1],\n",
    "          'regressor__GradientBoostingRegressor__max_depth':[2],\n",
    "          'regressor__GradientBoostingRegressor__max_features': ['auto'],\n",
    "          'regressor__GradientBoostingRegressor__n_estimators': [3162],\n",
    "          'regressor__GradientBoostingRegressor__subsample': [0.8]}\n",
    "          '''\n",
    "model = GridSearchCV(model_pipe, param_grid=params, cv=5, verbose=1, n_jobs=4, scoring='r2')\n",
    "\n",
    "model.fit(X_train, y_train)"
   ]
  },
  {
   "cell_type": "code",
   "execution_count": 9,
   "metadata": {},
   "outputs": [
    {
     "data": {
      "text/plain": [
       "0.9817308788317362"
      ]
     },
     "execution_count": 9,
     "metadata": {},
     "output_type": "execute_result"
    }
   ],
   "source": [
    "model.score(X_test, y_test)"
   ]
  },
  {
   "cell_type": "code",
   "execution_count": 10,
   "metadata": {},
   "outputs": [
    {
     "data": {
      "text/plain": [
       "<AxesSubplot:title={'center':'Residuals for GridSearchCV Model'}, xlabel='Predicted Value', ylabel='Residuals'>"
      ]
     },
     "execution_count": 10,
     "metadata": {},
     "output_type": "execute_result"
    },
    {
     "data": {
      "image/png": "[encoded data removed]",
      "text/plain": [
       "<Figure size 576x396 with 2 Axes>"
      ]
     },
     "metadata": {},
     "output_type": "display_data"
    }
   ],
   "source": [
    "visualizer = ResidualsPlot(model)\n",
    "\n",
    "visualizer.fit(X_train, y_train)  \n",
    "visualizer.score(X_test, y_test) \n",
    "\n",
    "save_to = os.path.join(Path(os.getcwd()).parent.resolve(), 'reports', 'figures', f'residuals_ml_model.png')\n",
    "visualizer.show(outpath=save_to)"
   ]
  },
  {
   "cell_type": "code",
   "execution_count": 11,
   "metadata": {},
   "outputs": [
    {
     "data": {
      "text/plain": [
       "<AxesSubplot:title={'center':'Prediction Error for GridSearchCV'}, xlabel='$y$', ylabel='$\\\\hat{y}$'>"
      ]
     },
     "execution_count": 11,
     "metadata": {},
     "output_type": "execute_result"
    },
    {
     "data": {
      "image/png": "[encoded data removed]",
      "text/plain": [
       "<Figure size 576x396 with 1 Axes>"
      ]
     },
     "metadata": {},
     "output_type": "display_data"
    }
   ],
   "source": [
    "visualizer = PredictionError(model)\n",
    "\n",
    "visualizer.fit(X_train, y_train)  \n",
    "visualizer.score(X_test, y_test)\n",
    "\n",
    "save_to = os.path.join(Path(os.getcwd()).parent.resolve(), 'reports', 'figures', f'prediction_errors_ml_model.png')\n",
    "visualizer.show(outpath=save_to)"
   ]
  },
  {
   "cell_type": "code",
   "execution_count": 12,
   "metadata": {},
   "outputs": [],
   "source": [
    "n_points = 75\n",
    "X_set = X_test.sample(n_points)\n",
    "\n",
    "X_set = shap.sample(X_test, n_points)"
   ]
  },
  {
   "cell_type": "code",
   "execution_count": null,
   "metadata": {},
   "outputs": [
    {
     "data": {
      "application/vnd.jupyter.widget-view+json": {
       "model_id": "f6f4b987bc3d4aeb8136fd29a6f35385",
       "version_major": 2,
       "version_minor": 0
      },
      "text/plain": [
       "HBox(children=(HTML(value=''), FloatProgress(value=0.0, max=75.0), HTML(value='')))"
      ]
     },
     "metadata": {},
     "output_type": "display_data"
    }
   ],
   "source": [
    "def model_predict(data_asarray):\n",
    "    data_asframe =  pd.DataFrame(data_asarray, columns=X_test.columns)\n",
    "    return model.best_estimator_.predict(data_asframe)\n",
    "\n",
    "explainer = shap.KernelExplainer(model_predict, data=X_set.values, feature_names = x_labels, algorithm = 'auto')\n",
    "shap_values = explainer.shap_values(X_set)\n",
    "\n",
    "shap.summary_plot(shap_values, X_set, show=False)\n",
    "\n",
    "\n",
    "save_to = os.path.join(Path(os.getcwd()).parent.resolve(), 'reports', 'figures', f'shap_values_levels.png')\n",
    "plt.tight_layout()\n",
    "plt.savefig(save_to)    \n",
    "plt.show()"
   ]
  },
  {
   "cell_type": "code",
   "execution_count": null,
   "metadata": {},
   "outputs": [],
   "source": [
    "shap.dependence_plot(\"log_wkn_population\", shap_values, X_set, interaction_index='human_favor')\n",
    "save_to = os.path.join(Path(os.getcwd()).parent.resolve(), 'reports', 'figures', f'shap_interaction_capital.png')\n",
    "plt.tight_layout()\n",
    "plt.savefig(save_to)    \n",
    "plt.show()"
   ]
  }
 ],
 "metadata": {
  "kernelspec": {
   "display_name": "Python 3",
   "language": "python",
   "name": "python3"
  },
  "language_info": {
   "codemirror_mode": {
    "name": "ipython",
    "version": 3
   },
   "file_extension": ".py",
   "mimetype": "text/x-python",
   "name": "python",
   "nbconvert_exporter": "python",
   "pygments_lexer": "ipython3",
   "version": "3.7.4"
  }
 },
 "nbformat": 4,
 "nbformat_minor": 4
}
