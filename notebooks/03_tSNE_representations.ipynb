{
 "cells": [
  {
   "cell_type": "code",
   "execution_count": null,
   "metadata": {},
   "outputs": [],
   "source": [
    "try:\n",
    "    output_filepath\n",
    "except:\n",
    "    output_filepath = '../data/processed/'"
   ]
  },
  {
   "cell_type": "code",
   "execution_count": null,
   "metadata": {},
   "outputs": [],
   "source": [
    "import os\n",
    "import networkx as nx\n",
    "import pandas as pd\n",
    "import numpy as np\n",
    "\n",
    "import country_converter as coco\n",
    "\n",
    "import umap\n",
    "import matplotlib.pyplot as plt\n",
    "import seaborn as sns"
   ]
  },
  {
   "cell_type": "code",
   "execution_count": null,
   "metadata": {},
   "outputs": [],
   "source": [
    "year='2015'"
   ]
  },
  {
   "cell_type": "code",
   "execution_count": null,
   "metadata": {},
   "outputs": [],
   "source": [
    "def plot_umap(graph):\n",
    "\n",
    "    g = nx.linalg.graphmatrix.adjacency_matrix(graph).toarray()\n",
    "\n",
    "    reducer = umap.UMAP(n_components=2)\n",
    "    embedding = reducer.fit_transform(g)\n",
    "\n",
    "    names = list(G.nodes)\n",
    "    regions = {c:coco.convert(c, to='Continent') for c in names}\n",
    "    regions['ROW'] = 'Rest of the world'\n",
    "    \n",
    "    df_plot = pd.DataFrame({'umap x':embedding[:, 0], 'umap y':embedding[:, 1], 'country':names, })\n",
    "    df_plot['region'] = df_plot.country.map(regions)\n",
    "    \n",
    "    fig, ax = plt.subplots(figsize=(9,9))\n",
    "    sns.scatterplot(data=df_plot, x='umap x', y='umap y', hue = 'region', ax=ax)\n",
    "\n",
    "    for i, txt in enumerate(names):\n",
    "        ax.annotate(txt, (embedding[:, 0][i], embedding[:, 1][i]))\n",
    "    \n",
    "    \n",
    "network_path = os.path.join(output_filepath, year, 'A_country.graphml')\n",
    "G = nx.readwrite.graphml.read_graphml(network_path)\n",
    "\n",
    "plot_umap(G)\n",
    "plt.title('t-SNE projection of financial flows network')\n",
    "plt.show()"
   ]
  },
  {
   "cell_type": "code",
   "execution_count": null,
   "metadata": {},
   "outputs": [],
   "source": [
    "network_path = os.path.join(output_filepath, year, 'migration_network.graphml')\n",
    "G = nx.readwrite.graphml.read_graphml(network_path)\n",
    "plot_umap(G)\n",
    "plt.title('t-SNE projection of migration flows network')\n",
    "plt.show()"
   ]
  },
  {
   "cell_type": "code",
   "execution_count": null,
   "metadata": {},
   "outputs": [],
   "source": [
    "network_path = os.path.join(output_filepath, year, 'migration_network.graphml')\n",
    "G = nx.readwrite.graphml.read_graphml(network_path)\n",
    "g = nx.linalg.graphmatrix.adjacency_matrix(G).toarray()\n",
    "\n",
    "reducer = umap.UMAP(n_components=1)\n",
    "embedding_1 = reducer.fit_transform(g)\n",
    "\n",
    "network_path = os.path.join(output_filepath, year, 'A_country.graphml')\n",
    "G = nx.readwrite.graphml.read_graphml(network_path)\n",
    "g = nx.linalg.graphmatrix.adjacency_matrix(G).toarray()\n",
    "\n",
    "reducer = umap.UMAP(n_components=1)\n",
    "embedding_2 = reducer.fit_transform(g)\n",
    "\n",
    "names = list(G.nodes)\n",
    "regions = {c:coco.convert(c, to='Continent') for c in names}\n",
    "regions['ROW'] = 'Rest of the world'\n",
    "\n",
    "\n",
    "df_plot = pd.DataFrame({'umap x':embedding_1[:,0], 'umap y':embedding_2[:,0], 'country':names})\n",
    "df_plot['region'] = df_plot.country.map(regions)\n",
    "\n",
    "fig, ax = plt.subplots(figsize=(9,9))\n",
    "sns.scatterplot(data=df_plot, x='umap x', y='umap y', hue = 'region', ax=ax)\n",
    "\n",
    "for i, txt in enumerate(names):\n",
    "    ax.annotate(txt, (embedding_1[:, 0][i], embedding_2[:, 0][i]))\n",
    "\n",
    "plt.show()\n"
   ]
  }
 ],
 "metadata": {
  "kernelspec": {
   "display_name": "Python 3",
   "language": "python",
   "name": "python3"
  },
  "language_info": {
   "codemirror_mode": {
    "name": "ipython",
    "version": 3
   },
   "file_extension": ".py",
   "mimetype": "text/x-python",
   "name": "python",
   "nbconvert_exporter": "python",
   "pygments_lexer": "ipython3",
   "version": "3.7.7-final"
  }
 },
 "nbformat": 4,
 "nbformat_minor": 2
}