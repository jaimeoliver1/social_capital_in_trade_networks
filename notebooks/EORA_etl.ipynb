{
 "cells": [
  {
   "cell_type": "code",
   "execution_count": 1,
   "metadata": {},
   "outputs": [],
   "source": [
    "%load_ext autoreload\n",
    "%autoreload 2"
   ]
  },
  {
   "cell_type": "code",
   "execution_count": 2,
   "metadata": {},
   "outputs": [],
   "source": [
    "import networkx as nx\n",
    "import pandas as pd"
   ]
  },
  {
   "cell_type": "code",
   "execution_count": 5,
   "metadata": {},
   "outputs": [
    {
     "output_type": "execute_result",
     "data": {
      "text/plain": [
       "180"
      ]
     },
     "metadata": {},
     "execution_count": 5
    }
   ],
   "source": [
    "M = nx.read_graphml('../data/processed/2011/migration_network.graphml')\n",
    "len(M.nodes())"
   ]
  },
  {
   "cell_type": "code",
   "execution_count": 6,
   "metadata": {},
   "outputs": [
    {
     "output_type": "execute_result",
     "data": {
      "text/plain": [
       "190"
      ]
     },
     "metadata": {},
     "execution_count": 6
    }
   ],
   "source": [
    "A = nx.read_graphml('../data/processed/2011/A_country.graphml')\n",
    "len(A.nodes())"
   ]
  },
  {
   "cell_type": "code",
   "execution_count": 8,
   "metadata": {},
   "outputs": [
    {
     "output_type": "execute_result",
     "data": {
      "text/plain": [
       "180"
      ]
     },
     "metadata": {},
     "execution_count": 8
    }
   ],
   "source": [
    "len(set(A.nodes).intersection(M.nodes()))"
   ]
  },
  {
   "cell_type": "code",
   "execution_count": 44,
   "metadata": {},
   "outputs": [
    {
     "output_type": "execute_result",
     "data": {
      "text/plain": [
       "138"
      ]
     },
     "metadata": {},
     "execution_count": 44
    }
   ],
   "source": [
    "len({'BRN', 'SMR', 'ARE', 'USR', 'ZMB', 'AND', 'TGO', 'LBY', 'PAK', 'BFA', 'BTN', 'ROW', 'SOM', 'GIN', 'AGO', 'BOL', 'CUB', 'LIE', 'NGA', 'MAR', 'AFG', 'SYR', 'MMR', 'QAT', 'BEN', 'NPL', 'TZA', 'VEN', 'BRB', 'BIH', 'PHL', 'PYF', 'SWZ', 'PRY', 'KHM', 'LBN', 'SLE', 'MAC', 'GEO', 'NAM', 'THA', 'LBR', 'BDI', 'RWA', 'TJK', 'OMN', 'LKA', 'PER', 'SDS', 'BMU', 'NCL', 'IRQ', 'LAO', 'MCO', 'MNG', 'MDA', 'BLR', 'PRK', 'URY', 'ARM', 'GMB', 'UGA', 'ZWE', 'BLZ', 'PAN', 'VGB', 'COG', 'PNG', 'ECU', 'LSO', 'NER', 'EGY', 'TUN', 'DZA', 'MLI', 'FJI', 'MNE', 'TKM', 'ETH', 'ATG', 'MDG', 'DJI', 'VNM', 'UZB', 'KWT', 'MRT', 'GRL', 'PSE', 'YEM', 'CMR', 'GTM', 'ANT', 'HTI', 'JOR', 'ALB', 'KGZ', 'AZE', 'DOM', 'MYS', 'NIC', 'WSM', 'IRN', 'SLV', 'ABW', 'MDV', 'JAM', 'CIV', 'SYC', 'KAZ', 'BWA', 'GUY', 'CPV', 'ERI', 'GAB', 'HKG', 'BHR', 'TTO', 'COD', 'MKD', 'MWI', 'MOZ', 'HND', 'MUS', 'VUT', 'SUR', 'STP', 'KEN', 'GHA', 'BGD', 'UKR', 'CAF', 'CYM', 'SRB', 'SEN', 'SUD', 'BHS', 'TCD', 'TWN'})"
   ]
  },
  {
   "cell_type": "code",
   "execution_count": 10,
   "metadata": {},
   "outputs": [],
   "source": [
    "import pandas as pd\n",
    "# Gross capital formation (current US$)\n",
    "df_GFCF = pd.read_excel('../data/raw/API_NE.GDI.TOTL.CD_DS2_en_excel_v2_1742937.xls', skiprows=3)\n",
    "df_GFCF.set_index('Country Code', inplace=True)\n",
    "df_GFCF = df_GFCF[[str(s) for s in range(2000, 2019)]].stack().reset_index()\n",
    "df_GFCF.columns = ['country', 'year', 'GFCF']"
   ]
  },
  {
   "cell_type": "code",
   "execution_count": 13,
   "metadata": {},
   "outputs": [
    {
     "output_type": "execute_result",
     "data": {
      "text/plain": [
       "166"
      ]
     },
     "metadata": {},
     "execution_count": 13
    }
   ],
   "source": [
    "len(set(A.nodes).intersection(M.nodes()).intersection(df_GFCF.country.unique()))"
   ]
  },
  {
   "cell_type": "code",
   "execution_count": null,
   "metadata": {},
   "outputs": [],
   "source": []
  }
 ],
 "metadata": {
  "kernelspec": {
   "display_name": "social_capital_in_trade_networks",
   "language": "python",
   "name": "social_capital_in_trade_networks"
  },
  "language_info": {
   "codemirror_mode": {
    "name": "ipython",
    "version": 3
   },
   "file_extension": ".py",
   "mimetype": "text/x-python",
   "name": "python",
   "nbconvert_exporter": "python",
   "pygments_lexer": "ipython3",
   "version": "3.7.7-final"
  }
 },
 "nbformat": 4,
 "nbformat_minor": 4
}