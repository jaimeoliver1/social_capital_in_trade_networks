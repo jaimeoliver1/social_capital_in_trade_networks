{
 "cells": [
  {
   "cell_type": "code",
   "execution_count": 1,
   "metadata": {},
   "outputs": [],
   "source": [
    "%load_ext autoreload\n",
    "%autoreload 2"
   ]
  },
  {
   "cell_type": "code",
   "execution_count": 68,
   "metadata": {},
   "outputs": [],
   "source": [
    "import networkx as nx\n",
    "import numpy as np\n",
    "from utils_networks import godfhater_index, bridging_centrality, favor_centrality\n",
    "\n",
    "import pandas as pd"
   ]
  },
  {
   "cell_type": "code",
   "execution_count": 127,
   "metadata": {},
   "outputs": [],
   "source": [
    "files_path = '//domino/datasets/jaime_oliver/industry_network/scratch/'\n",
    "year=2005\n",
    "network_path = f'{files_path}{year}/migration_network.graphml'\n",
    "network_path = f'{files_path}{year}/A_country.graphml'\n",
    "G = nx.readwrite.graphml.read_graphml(network_path)"
   ]
  },
  {
   "cell_type": "code",
   "execution_count": 129,
   "metadata": {},
   "outputs": [
    {
     "data": {
      "text/plain": [
       "{'ARG': 11,\n",
       " 'AUS': 17,\n",
       " 'AUT': 23,\n",
       " 'BEL': 21,\n",
       " 'BGR': 28,\n",
       " 'BRA': 10,\n",
       " 'BRN': 16,\n",
       " 'CAN': 12,\n",
       " 'CHE': 20,\n",
       " 'CHL': 18,\n",
       " 'CHN': 19,\n",
       " 'COL': 11,\n",
       " 'CRI': 23,\n",
       " 'CYP': 21,\n",
       " 'CZE': 21,\n",
       " 'DEU': 20,\n",
       " 'DNK': 22,\n",
       " 'ESP': 18,\n",
       " 'EST': 27,\n",
       " 'FIN': 23,\n",
       " 'FRA': 14,\n",
       " 'GBR': 16,\n",
       " 'GRC': 17,\n",
       " 'HKG': 22,\n",
       " 'HRV': 20,\n",
       " 'HUN': 29,\n",
       " 'IDN': 18,\n",
       " 'IND': 19,\n",
       " 'IRL': 26,\n",
       " 'ISL': 20,\n",
       " 'ISR': 24,\n",
       " 'ITA': 17,\n",
       " 'JPN': 11,\n",
       " 'KAZ': 15,\n",
       " 'KHM': 17,\n",
       " 'KOR': 21,\n",
       " 'LTU': 20,\n",
       " 'LUX': 24,\n",
       " 'LVA': 20,\n",
       " 'MAR': 17,\n",
       " 'MEX': 14,\n",
       " 'MLT': 28,\n",
       " 'MYS': 26,\n",
       " 'NLD': 22,\n",
       " 'NOR': 19,\n",
       " 'NZL': 18,\n",
       " 'PER': 14,\n",
       " 'PHL': 19,\n",
       " 'POL': 27,\n",
       " 'PRT': 15,\n",
       " 'ROU': 23,\n",
       " 'ROW': 20,\n",
       " 'RUS': 16,\n",
       " 'SAU': 12,\n",
       " 'SGP': 29,\n",
       " 'SVK': 22,\n",
       " 'SVN': 23,\n",
       " 'SWE': 21,\n",
       " 'THA': 24,\n",
       " 'TUN': 15,\n",
       " 'TUR': 16,\n",
       " 'TWN': 24,\n",
       " 'USA': 9,\n",
       " 'VNM': 22,\n",
       " 'ZAF': 19}"
      ]
     },
     "execution_count": 129,
     "metadata": {},
     "output_type": "execute_result"
    }
   ],
   "source": [
    "favor_centrality(G, tol = 0.001)"
   ]
  },
  {
   "cell_type": "code",
   "execution_count": 78,
   "metadata": {},
   "outputs": [
    {
     "data": {
      "text/plain": [
       "{'ARG': 0.7432686303448597,\n",
       " 'AUS': 1.0499445286961642,\n",
       " 'AUT': 1.0654562720077143,\n",
       " 'BEL': 1.2304878888011734,\n",
       " 'BGR': 1.2031792928315448,\n",
       " 'BRA': 0.898448863821122,\n",
       " 'BRN': 0.7514333979390034,\n",
       " 'CAN': 0.8902916552763899,\n",
       " 'CHE': 1.103750333089129,\n",
       " 'CHL': 0.863402927389271,\n",
       " 'CHN': 2.2500412583338165,\n",
       " 'COL': 0.7781536740248083,\n",
       " 'CRI': 0.7342759833123114,\n",
       " 'CYP': 0.8773258804081588,\n",
       " 'CZE': 1.3589297060563548,\n",
       " 'DEU': 1.5955063453078362,\n",
       " 'DNK': 0.9454191798415408,\n",
       " 'ESP': 1.1143478951900327,\n",
       " 'EST': 1.0979437016879168,\n",
       " 'FIN': 0.9944443958926635,\n",
       " 'FRA': 1.148291252489067,\n",
       " 'GBR': 1.1813920599213745,\n",
       " 'GRC': 0.7866057551292284,\n",
       " 'HKG': 0.9611973646168059,\n",
       " 'HRV': 0.8891429922647758,\n",
       " 'HUN': 1.1540086669579759,\n",
       " 'IDN': 0.9579238504067412,\n",
       " 'IND': 1.086642496388379,\n",
       " 'IRL': 1.1487466888931002,\n",
       " 'ISL': 0.9435683371319951,\n",
       " 'ISR': 0.7178358116393221,\n",
       " 'ITA': 1.2439624147822148,\n",
       " 'JPN': 1.07977870804976,\n",
       " 'KAZ': 0.6502345967082325,\n",
       " 'KHM': 0.8083705507293738,\n",
       " 'KOR': 1.4334794264936426,\n",
       " 'LTU': 0.9062415500808704,\n",
       " 'LUX': 1.8046824012956408,\n",
       " 'LVA': 1.066222936696933,\n",
       " 'MAR': 0.77197654318502,\n",
       " 'MEX': 0.7957523684291259,\n",
       " 'MLT': 1.3968814030083536,\n",
       " 'MYS': 1.4378727300110579,\n",
       " 'NLD': 1.1713273515128995,\n",
       " 'NOR': 0.8692612760588145,\n",
       " 'NZL': 0.925036174730442,\n",
       " 'PER': 0.7974162013344914,\n",
       " 'PHL': 0.9281414471303311,\n",
       " 'POL': 1.2241057814239116,\n",
       " 'PRT': 0.9221722440413038,\n",
       " 'ROU': 1.0610034932917798,\n",
       " 'ROW': 1.7525214141395493,\n",
       " 'RUS': 1.3252026265201922,\n",
       " 'SAU': 0.5768740310685502,\n",
       " 'SGP': 1.6146806557062523,\n",
       " 'SVK': 1.3344634889115026,\n",
       " 'SVN': 1.0265586914402565,\n",
       " 'SWE': 0.9609800588361146,\n",
       " 'THA': 1.3391591132326754,\n",
       " 'TUN': 0.8998851742643087,\n",
       " 'TUR': 1.049470825076703,\n",
       " 'TWN': 1.2213724307093599,\n",
       " 'USA': 1.3565188254874183,\n",
       " 'VNM': 1.6311247585682374,\n",
       " 'ZAF': 1.0433487963770944}"
      ]
     },
     "execution_count": 78,
     "metadata": {},
     "output_type": "execute_result"
    }
   ],
   "source": [
    "bridging_centrality(G)"
   ]
  },
  {
   "cell_type": "code",
   "execution_count": 75,
   "metadata": {},
   "outputs": [
    {
     "data": {
      "text/html": [
       "<div>\n",
       "<style scoped>\n",
       "    .dataframe tbody tr th:only-of-type {\n",
       "        vertical-align: middle;\n",
       "    }\n",
       "\n",
       "    .dataframe tbody tr th {\n",
       "        vertical-align: top;\n",
       "    }\n",
       "\n",
       "    .dataframe thead th {\n",
       "        text-align: right;\n",
       "    }\n",
       "</style>\n",
       "<table border=\"1\" class=\"dataframe\">\n",
       "  <thead>\n",
       "    <tr style=\"text-align: right;\">\n",
       "      <th></th>\n",
       "    </tr>\n",
       "  </thead>\n",
       "  <tbody>\n",
       "    <tr>\n",
       "      <td>ARG</td>\n",
       "    </tr>\n",
       "    <tr>\n",
       "      <td>AUS</td>\n",
       "    </tr>\n",
       "    <tr>\n",
       "      <td>AUT</td>\n",
       "    </tr>\n",
       "    <tr>\n",
       "      <td>BEL</td>\n",
       "    </tr>\n",
       "    <tr>\n",
       "      <td>BGR</td>\n",
       "    </tr>\n",
       "    <tr>\n",
       "      <td>...</td>\n",
       "    </tr>\n",
       "    <tr>\n",
       "      <td>TUR</td>\n",
       "    </tr>\n",
       "    <tr>\n",
       "      <td>TWN</td>\n",
       "    </tr>\n",
       "    <tr>\n",
       "      <td>USA</td>\n",
       "    </tr>\n",
       "    <tr>\n",
       "      <td>VNM</td>\n",
       "    </tr>\n",
       "    <tr>\n",
       "      <td>ZAF</td>\n",
       "    </tr>\n",
       "  </tbody>\n",
       "</table>\n",
       "<p>65 rows × 0 columns</p>\n",
       "</div>"
      ],
      "text/plain": [
       "Empty DataFrame\n",
       "Columns: []\n",
       "Index: [ARG, AUS, AUT, BEL, BGR, BRA, BRN, CAN, CHE, CHL, CHN, COL, CRI, CYP, CZE, DEU, DNK, ESP, EST, FIN, FRA, GBR, GRC, HKG, HRV, HUN, IDN, IND, IRL, ISL, ISR, ITA, JPN, KAZ, KHM, KOR, LTU, LUX, LVA, MAR, MEX, MLT, MYS, NLD, NOR, NZL, PER, PHL, POL, PRT, ROU, ROW, RUS, SAU, SGP, SVK, SVN, SWE, THA, TUN, TUR, TWN, USA, VNM, ZAF]\n",
       "\n",
       "[65 rows x 0 columns]"
      ]
     },
     "execution_count": 75,
     "metadata": {},
     "output_type": "execute_result"
    }
   ],
   "source": [
    "pd.DataFrame(index=G.nodes)"
   ]
  },
  {
   "cell_type": "code",
   "execution_count": 162,
   "metadata": {},
   "outputs": [
    {
     "data": {
      "text/html": [
       "<div>\n",
       "<style scoped>\n",
       "    .dataframe tbody tr th:only-of-type {\n",
       "        vertical-align: middle;\n",
       "    }\n",
       "\n",
       "    .dataframe tbody tr th {\n",
       "        vertical-align: top;\n",
       "    }\n",
       "\n",
       "    .dataframe thead th {\n",
       "        text-align: right;\n",
       "    }\n",
       "</style>\n",
       "<table border=\"1\" class=\"dataframe\">\n",
       "  <thead>\n",
       "    <tr style=\"text-align: right;\">\n",
       "      <th></th>\n",
       "      <th>0</th>\n",
       "    </tr>\n",
       "  </thead>\n",
       "  <tbody>\n",
       "    <tr>\n",
       "      <td>GBR</td>\n",
       "      <td>0.000003</td>\n",
       "    </tr>\n",
       "    <tr>\n",
       "      <td>JPN</td>\n",
       "      <td>0.000004</td>\n",
       "    </tr>\n",
       "    <tr>\n",
       "      <td>CHN</td>\n",
       "      <td>0.000005</td>\n",
       "    </tr>\n",
       "    <tr>\n",
       "      <td>CHE</td>\n",
       "      <td>0.000006</td>\n",
       "    </tr>\n",
       "    <tr>\n",
       "      <td>USA</td>\n",
       "      <td>0.000007</td>\n",
       "    </tr>\n",
       "    <tr>\n",
       "      <td>...</td>\n",
       "      <td>...</td>\n",
       "    </tr>\n",
       "    <tr>\n",
       "      <td>KAZ</td>\n",
       "      <td>0.000236</td>\n",
       "    </tr>\n",
       "    <tr>\n",
       "      <td>CRI</td>\n",
       "      <td>0.000245</td>\n",
       "    </tr>\n",
       "    <tr>\n",
       "      <td>COL</td>\n",
       "      <td>0.000284</td>\n",
       "    </tr>\n",
       "    <tr>\n",
       "      <td>LVA</td>\n",
       "      <td>0.000291</td>\n",
       "    </tr>\n",
       "    <tr>\n",
       "      <td>BRN</td>\n",
       "      <td>0.000294</td>\n",
       "    </tr>\n",
       "  </tbody>\n",
       "</table>\n",
       "<p>65 rows × 1 columns</p>\n",
       "</div>"
      ],
      "text/plain": [
       "            0\n",
       "GBR  0.000003\n",
       "JPN  0.000004\n",
       "CHN  0.000005\n",
       "CHE  0.000006\n",
       "USA  0.000007\n",
       "..        ...\n",
       "KAZ  0.000236\n",
       "CRI  0.000245\n",
       "COL  0.000284\n",
       "LVA  0.000291\n",
       "BRN  0.000294\n",
       "\n",
       "[65 rows x 1 columns]"
      ]
     },
     "execution_count": 162,
     "metadata": {},
     "output_type": "execute_result"
    }
   ],
   "source": [
    "res = godfhater_index(G, tol=1e-4)\n",
    "pd.DataFrame.from_dict(res, orient='index').sort_values(by=0)"
   ]
  },
  {
   "cell_type": "code",
   "execution_count": 87,
   "metadata": {},
   "outputs": [],
   "source": [
    "gf_i = ((g_k*g_j for j, g_j in enumerate(g[:,0]) if k>j and g[k,j] == 0 and g[j,k] == 0 ) for k, g_k in enumerate(g[:,0]))"
   ]
  },
  {
   "cell_type": "code",
   "execution_count": 75,
   "metadata": {},
   "outputs": [],
   "source": [
    "def flatten(L):\n",
    "    '''Flattens nested lists or tuples with non-string items'''\n",
    "    for item in L:\n",
    "        try:\n",
    "            for i in flatten(item):\n",
    "                yield i\n",
    "        except TypeError:\n",
    "            yield item"
   ]
  },
  {
   "cell_type": "code",
   "execution_count": 88,
   "metadata": {},
   "outputs": [
    {
     "ename": "TypeError",
     "evalue": "float() argument must be a string or a number, not 'generator'",
     "output_type": "error",
     "traceback": [
      "\u001b[0;31m---------------------------------------------------------------------------\u001b[0m",
      "\u001b[0;31mTypeError\u001b[0m                                 Traceback (most recent call last)",
      "\u001b[0;32m<ipython-input-88-ff4d50e994c3>\u001b[0m in \u001b[0;36m<module>\u001b[0;34m\u001b[0m\n\u001b[0;32m----> 1\u001b[0;31m \u001b[0mnp\u001b[0m\u001b[0;34m.\u001b[0m\u001b[0msum\u001b[0m\u001b[0;34m(\u001b[0m\u001b[0mnp\u001b[0m\u001b[0;34m.\u001b[0m\u001b[0mfromiter\u001b[0m\u001b[0;34m(\u001b[0m\u001b[0mgf_i\u001b[0m\u001b[0;34m,\u001b[0m \u001b[0mfloat\u001b[0m\u001b[0;34m)\u001b[0m\u001b[0;34m)\u001b[0m\u001b[0;34m\u001b[0m\u001b[0;34m\u001b[0m\u001b[0m\n\u001b[0m",
      "\u001b[0;31mTypeError\u001b[0m: float() argument must be a string or a number, not 'generator'"
     ]
    }
   ],
   "source": [
    "np.sum(np.fromiter(gf_i, generator))"
   ]
  },
  {
   "cell_type": "code",
   "execution_count": 86,
   "metadata": {},
   "outputs": [
    {
     "data": {
      "text/plain": [
       "[[], [0], [], [], [], [3], [6], [], [], [0]]"
      ]
     },
     "execution_count": 86,
     "metadata": {},
     "output_type": "execute_result"
    }
   ],
   "source": [
    "[list(l) for l in gf_i]"
   ]
  }
 ],
 "metadata": {
  "kernelspec": {
   "display_name": "Python 3",
   "language": "python",
   "name": "python3"
  },
  "language_info": {
   "codemirror_mode": {
    "name": "ipython",
    "version": 3
   },
   "file_extension": ".py",
   "mimetype": "text/x-python",
   "name": "python",
   "nbconvert_exporter": "python",
   "pygments_lexer": "ipython3",
   "version": "3.7.4"
  }
 },
 "nbformat": 4,
 "nbformat_minor": 2
}
