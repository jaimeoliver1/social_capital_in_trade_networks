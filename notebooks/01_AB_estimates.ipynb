{
 "cells": [
  {
   "cell_type": "code",
   "execution_count": 1,
   "metadata": {},
   "outputs": [],
   "source": [
    "try:\n",
    "    output_filepath\n",
    "except:\n",
    "    output_filepath = 's3://workspaces-clarity-mgmt-pro/jaime.oliver/misc/social_capital/data/processed/'\n",
    "    input_filepath = 's3://workspaces-clarity-mgmt-pro/jaime.oliver/misc/social_capital/data/raw/'"
   ]
  },
  {
   "cell_type": "code",
   "execution_count": 2,
   "metadata": {},
   "outputs": [],
   "source": [
    "import pandas as pd\n",
    "import numpy as np\n",
    "import os\n",
    "from utils import data_loader\n",
    "import seaborn as sns\n",
    "import matplotlib.pyplot as plt\n",
    "\n",
    "from linearmodels.iv import IV2SLS, IVGMM\n",
    "from linearmodels.iv.results import compare\n",
    "\n",
    "from sklearn.preprocessing import StandardScaler\n",
    "from sklearn.decomposition import PCA\n",
    "from sklearn.pipeline import Pipeline\n",
    "\n",
    "from arellano_bond import PanelLaggedDep"
   ]
  },
  {
   "cell_type": "code",
   "execution_count": 3,
   "metadata": {},
   "outputs": [],
   "source": [
    "reduced_terms_list, df_model = data_loader(output_filepath)\n",
    "df_model = df_model[df_model.year.between(1993, 2016)]"
   ]
  },
  {
   "cell_type": "code",
   "execution_count": 4,
   "metadata": {},
   "outputs": [
    {
     "data": {
      "text/plain": [
       "Text(0, 0.5, 'cumulative explained variance')"
      ]
     },
     "execution_count": 4,
     "metadata": {},
     "output_type": "execute_result"
    },
    {
     "data": {
      "image/png": "[encoded data removed]",
      "text/plain": [
       "<Figure size 432x288 with 1 Axes>"
      ]
     },
     "metadata": {
      "needs_background": "light"
     },
     "output_type": "display_data"
    }
   ],
   "source": [
    "n = 3\n",
    "\n",
    "pipe = Pipeline([\n",
    "        ('scale', StandardScaler()),\n",
    "        ('reduce_dims', PCA(n_components=n))]\n",
    "        )\n",
    "\n",
    "df_model[[f'pca_{i}' for i in range(n)]] = pipe.fit_transform(df_model[reduced_terms_list])\n",
    "\n",
    "pipe = Pipeline([\n",
    "        ('scale', StandardScaler()),\n",
    "        ('reduce_dims', PCA(n_components=n))]\n",
    "        )\n",
    "pipe.fit(df_model[reduced_terms_list])\n",
    "\n",
    "plt.plot(np.cumsum(pipe['reduce_dims'].explained_variance_ratio_))\n",
    "plt.xlabel('number of components')\n",
    "plt.ylabel('cumulative explained variance')"
   ]
  },
  {
   "cell_type": "markdown",
   "metadata": {},
   "source": [
    "## Anderson Hsiao / Arellano bond estimates\n",
    "Suspecting there is reverse causality, we introduce the endogenouos variable as a regressor to reduce it:\n",
    "$$\\log GDP_t = \\beta PCA_t + \\log GDP_{t-1} + \\Delta\\epsilon$$\n",
    "\n",
    "We estimate the model in differences\n",
    "$$\\Delta\\log GDP_t = \\beta\\Delta PCA + \\Delta\\epsilon$$\n",
    "\n",
    "As instruments we use lagged values of  $\\log GDP$, which are:\n",
    "- Exogenous: not related to future values of $\\log GDP$\n",
    "- Relevant: related to lagged PCA\n",
    "\n",
    "Depending on the number of lags used: \n",
    "- Anderson-Hsiao: 1 lag\n",
    "- Arellano-Bond: all available"
   ]
  },
  {
   "cell_type": "code",
   "execution_count": 5,
   "metadata": {},
   "outputs": [
    {
     "name": "stdout",
     "output_type": "stream",
     "text": [
      "                          IV-GMM Estimation Summary                           \n",
      "==============================================================================\n",
      "Dep. Variable:               Dlog_gdp   R-squared:                      0.0037\n",
      "Estimator:                     IV-GMM   Adj. R-squared:                 0.0013\n",
      "No. Observations:                3348   F-statistic:                    638.57\n",
      "Date:                Mon, Dec 20 2021   P-value (F-stat)                0.0000\n",
      "Time:                        18:06:08   Distribution:                  chi2(8)\n",
      "Cov. Estimator:                robust                                         \n",
      "                                                                              \n",
      "                                   Parameter Estimates                                    \n",
      "==========================================================================================\n",
      "                        Parameter  Std. Err.     T-stat    P-value    Lower CI    Upper CI\n",
      "------------------------------------------------------------------------------------------\n",
      "Dfinancial_hubs           -0.1240     0.0886    -1.3993     0.1617     -0.2977      0.0497\n",
      "Dfinancial_authorities     0.0880     0.0846     1.0401     0.2983     -0.0778      0.2538\n",
      "Dgoods_hubs                0.0624     0.0277     2.2506     0.0244      0.0081      0.1167\n",
      "Dgoods_authorities        -0.0605     0.0359    -1.6848     0.0920     -0.1308      0.0099\n",
      "Dhuman_hubs                0.0790     0.0792     0.9980     0.3183     -0.0761      0.2342\n",
      "Dhuman_authorities         0.0112     0.0128     0.8776     0.3802     -0.0138      0.0362\n",
      "Dhuman_favor               0.0270     0.0374     0.7204     0.4713     -0.0464      0.1003\n",
      "L1Dlog_gdp                 0.7106     0.0432     16.441     0.0000      0.6259      0.7953\n",
      "==========================================================================================\n",
      "\n",
      "Endogenous: L1Dlog_gdp\n",
      "Instruments: ILVL_t1995L2, ILVL_t1996L2, ILVL_t1997L2, ILVL_t1998L2, ILVL_t1999L2, ILVL_t2000L2, ILVL_t2001L2, ILVL_t2002L2, ILVL_t2003L2, ILVL_t2004L2, ILVL_t2005L2, ILVL_t2006L2, ILVL_t2007L2, ILVL_t2008L2, ILVL_t2009L2, ILVL_t2010L2, ILVL_t2011L2, ILVL_t2012L2, ILVL_t2013L2, ILVL_t2014L2, ILVL_t2015L2, ILVL_t2016L2\n",
      "GMM Covariance\n",
      "Debiased: False\n",
      "Robust (Heteroskedastic)\n"
     ]
    },
    {
     "name": "stderr",
     "output_type": "stream",
     "text": [
      "/repos/social_capital_in_trade_networks/notebooks/arellano_bond.py:107: SettingWithCopyWarning: \n",
      "A value is trying to be set on a copy of a slice from a DataFrame.\n",
      "Try using .loc[row_indexer,col_indexer] = value instead\n",
      "\n",
      "See the caveats in the documentation: https://pandas.pydata.org/pandas-docs/stable/user_guide/indexing.html#returning-a-view-versus-a-copy\n",
      "  dropped['CLUSTER_VAR'] = dropped.index.get_level_values(0)\n"
     ]
    }
   ],
   "source": [
    "df_index = df_model.set_index(['country', 'year'])\n",
    "model = PanelLaggedDep(endog = df_index['log_gdp'],\n",
    "                       exogs = df_index[reduced_terms_list], \n",
    "                       systemGMM = False,\n",
    "                       iv_max_lags=1)\n",
    "\n",
    "results = model.fit()\n",
    "\n",
    "print(results.summary)"
   ]
  },
  {
   "cell_type": "code",
   "execution_count": 6,
   "metadata": {},
   "outputs": [
    {
     "name": "stdout",
     "output_type": "stream",
     "text": [
      "                          IV-GMM Estimation Summary                           \n",
      "==============================================================================\n",
      "Dep. Variable:               Dlog_gdp   R-squared:                      0.0009\n",
      "Estimator:                     IV-GMM   Adj. R-squared:                -0.0003\n",
      "No. Observations:                3348   F-statistic:                    356.10\n",
      "Date:                Mon, Dec 20 2021   P-value (F-stat)                0.0000\n",
      "Time:                        18:06:08   Distribution:                  chi2(4)\n",
      "Cov. Estimator:                robust                                         \n",
      "                                                                              \n",
      "                             Parameter Estimates                              \n",
      "==============================================================================\n",
      "            Parameter  Std. Err.     T-stat    P-value    Lower CI    Upper CI\n",
      "------------------------------------------------------------------------------\n",
      "Dpca_0        -0.0244     0.0133    -1.8248     0.0680     -0.0505      0.0018\n",
      "Dpca_1        -0.0191     0.1081    -0.1764     0.8600     -0.2308      0.1927\n",
      "Dpca_2         0.0766     0.0724     1.0577     0.2902     -0.0653      0.2184\n",
      "L1Dlog_gdp     0.6823     0.0546     12.496     0.0000      0.5753      0.7893\n",
      "==============================================================================\n",
      "\n",
      "Endogenous: L1Dlog_gdp\n",
      "Instruments: ILVL_t1995L2, ILVL_t1996L2, ILVL_t1997L2, ILVL_t1998L2, ILVL_t1999L2, ILVL_t2000L2, ILVL_t2001L2, ILVL_t2002L2, ILVL_t2003L2, ILVL_t2004L2, ILVL_t2005L2, ILVL_t2006L2, ILVL_t2007L2, ILVL_t2008L2, ILVL_t2009L2, ILVL_t2010L2, ILVL_t2011L2, ILVL_t2012L2, ILVL_t2013L2, ILVL_t2014L2, ILVL_t2015L2, ILVL_t2016L2\n",
      "GMM Covariance\n",
      "Debiased: False\n",
      "Robust (Heteroskedastic)\n"
     ]
    },
    {
     "name": "stderr",
     "output_type": "stream",
     "text": [
      "/repos/social_capital_in_trade_networks/notebooks/arellano_bond.py:107: SettingWithCopyWarning: \n",
      "A value is trying to be set on a copy of a slice from a DataFrame.\n",
      "Try using .loc[row_indexer,col_indexer] = value instead\n",
      "\n",
      "See the caveats in the documentation: https://pandas.pydata.org/pandas-docs/stable/user_guide/indexing.html#returning-a-view-versus-a-copy\n",
      "  dropped['CLUSTER_VAR'] = dropped.index.get_level_values(0)\n"
     ]
    }
   ],
   "source": [
    "df_index = df_model.set_index(['country', 'year'])\n",
    "model = PanelLaggedDep(endog = df_index['log_gdp'],\n",
    "                       exogs = df_index[[f'pca_{i}' for i in range(n)]], \n",
    "                       systemGMM = False,\n",
    "                       iv_max_lags=1,\n",
    "                       lags=1)\n",
    "\n",
    "results = model.fit()\n",
    "\n",
    "print(results.summary)"
   ]
  },
  {
   "cell_type": "code",
   "execution_count": 7,
   "metadata": {},
   "outputs": [
    {
     "name": "stdout",
     "output_type": "stream",
     "text": [
      "                          IV-GMM Estimation Summary                           \n",
      "==============================================================================\n",
      "Dep. Variable:                 Dpca_0   R-squared:                      0.2528\n",
      "Estimator:                     IV-GMM   Adj. R-squared:                 0.2523\n",
      "No. Observations:                3348   F-statistic:                    122.46\n",
      "Date:                Mon, Dec 20 2021   P-value (F-stat)                0.0000\n",
      "Time:                        18:06:08   Distribution:                  chi2(2)\n",
      "Cov. Estimator:                robust                                         \n",
      "                                                                              \n",
      "                             Parameter Estimates                              \n",
      "==============================================================================\n",
      "            Parameter  Std. Err.     T-stat    P-value    Lower CI    Upper CI\n",
      "------------------------------------------------------------------------------\n",
      "Dlog_gdp      -0.1198     0.1074    -1.1155     0.2646     -0.3304      0.0907\n",
      "L1Dpca_0      -0.2416     0.0261    -9.2645     0.0000     -0.2927     -0.1905\n",
      "==============================================================================\n",
      "\n",
      "Endogenous: L1Dpca_0\n",
      "Instruments: ILVL_t1995L2, ILVL_t1996L2, ILVL_t1997L2, ILVL_t1998L2, ILVL_t1999L2, ILVL_t2000L2, ILVL_t2001L2, ILVL_t2002L2, ILVL_t2003L2, ILVL_t2004L2, ILVL_t2005L2, ILVL_t2006L2, ILVL_t2007L2, ILVL_t2008L2, ILVL_t2009L2, ILVL_t2010L2, ILVL_t2011L2, ILVL_t2012L2, ILVL_t2013L2, ILVL_t2014L2, ILVL_t2015L2, ILVL_t2016L2\n",
      "GMM Covariance\n",
      "Debiased: False\n",
      "Robust (Heteroskedastic)\n"
     ]
    },
    {
     "name": "stderr",
     "output_type": "stream",
     "text": [
      "/repos/social_capital_in_trade_networks/notebooks/arellano_bond.py:107: SettingWithCopyWarning: \n",
      "A value is trying to be set on a copy of a slice from a DataFrame.\n",
      "Try using .loc[row_indexer,col_indexer] = value instead\n",
      "\n",
      "See the caveats in the documentation: https://pandas.pydata.org/pandas-docs/stable/user_guide/indexing.html#returning-a-view-versus-a-copy\n",
      "  dropped['CLUSTER_VAR'] = dropped.index.get_level_values(0)\n"
     ]
    }
   ],
   "source": [
    "df_index = df_model.set_index(['country', 'year'])\n",
    "model = PanelLaggedDep(endog = df_index['pca_0'],\n",
    "                       exogs = df_index[['log_gdp']], \n",
    "                       systemGMM = False,\n",
    "                       iv_max_lags=1,\n",
    "                       lags=1)\n",
    "\n",
    "results = model.fit()\n",
    "\n",
    "print(results.summary)"
   ]
  }
 ],
 "metadata": {
  "kernelspec": {
   "display_name": "Python 3",
   "language": "python",
   "name": "python3"
  },
  "language_info": {
   "codemirror_mode": {
    "name": "ipython",
    "version": 3
   },
   "file_extension": ".py",
   "mimetype": "text/x-python",
   "name": "python",
   "nbconvert_exporter": "python",
   "pygments_lexer": "ipython3",
   "version": "3.7.4"
  }
 },
 "nbformat": 4,
 "nbformat_minor": 2
}
