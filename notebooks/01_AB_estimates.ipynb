{
 "cells": [
  {
   "cell_type": "code",
   "execution_count": 1,
   "metadata": {},
   "outputs": [],
   "source": [
    "%load_ext autoreload\n",
    "%autoreload 2"
   ]
  },
  {
   "cell_type": "code",
   "execution_count": 2,
   "metadata": {},
   "outputs": [],
   "source": [
    "import autoreload"
   ]
  },
  {
   "cell_type": "code",
   "execution_count": 3,
   "metadata": {},
   "outputs": [],
   "source": [
    "try:\n",
    "    output_filepath\n",
    "except:\n",
    "    output_filepath = 's3://workspaces-clarity-mgmt-pro/jaime.oliver/misc/social_capital/data/processed_3/'\n",
    "    input_filepath = 's3://workspaces-clarity-mgmt-pro/jaime.oliver/misc/social_capital/data/raw/'"
   ]
  },
  {
   "cell_type": "code",
   "execution_count": 4,
   "metadata": {},
   "outputs": [],
   "source": [
    "import pandas as pd\n",
    "import numpy as np\n",
    "import os\n",
    "from utils import data_loader\n",
    "import seaborn as sns\n",
    "import matplotlib.pyplot as plt\n",
    "\n",
    "from linearmodels.iv import IV2SLS, IVGMM\n",
    "from linearmodels.iv.results import compare\n",
    "\n",
    "from sklearn.preprocessing import StandardScaler\n",
    "from sklearn.decomposition import PCA\n",
    "from sklearn.pipeline import Pipeline\n",
    "\n",
    "from arellano_bond import PanelLaggedDep"
   ]
  },
  {
   "cell_type": "code",
   "execution_count": 5,
   "metadata": {},
   "outputs": [],
   "source": [
    "reduced_terms_list, df_model = data_loader(output_filepath)\n",
    "df_model = df_model[df_model.year.between(1993, 2016)]"
   ]
  },
  {
   "cell_type": "code",
   "execution_count": 6,
   "metadata": {},
   "outputs": [
    {
     "data": {
      "text/plain": [
       "Text(0, 0.5, 'cumulative explained variance')"
      ]
     },
     "execution_count": 6,
     "metadata": {},
     "output_type": "execute_result"
    },
    {
     "data": {
      "image/png": "[encoded data removed]",
      "text/plain": [
       "<Figure size 432x288 with 1 Axes>"
      ]
     },
     "metadata": {
      "needs_background": "light"
     },
     "output_type": "display_data"
    }
   ],
   "source": [
    "n = 3\n",
    "\n",
    "pipe = Pipeline([\n",
    "        ('scale', StandardScaler()),\n",
    "        ('reduce_dims', PCA(n_components=n))]\n",
    "        )\n",
    "\n",
    "df_model[[f'pca_{i}' for i in range(n)]] = pipe.fit_transform(df_model[reduced_terms_list])\n",
    "\n",
    "pipe = Pipeline([\n",
    "        ('scale', StandardScaler()),\n",
    "        ('reduce_dims', PCA(n_components=n))]\n",
    "        )\n",
    "pipe.fit(df_model[reduced_terms_list])\n",
    "\n",
    "plt.plot(np.cumsum(pipe['reduce_dims'].explained_variance_ratio_))\n",
    "plt.xlabel('number of components')\n",
    "plt.ylabel('cumulative explained variance')"
   ]
  },
  {
   "cell_type": "markdown",
   "metadata": {},
   "source": [
    "## Anderson Hsiao / Arellano bond estimates\n",
    "Suspecting there is reverse causality, we introduce the endogenouos variable as a regressor to reduce it:\n",
    "$$\\log GDP_t = \\beta PCA_t + \\log GDP_{t-1} + \\Delta\\epsilon$$\n",
    "\n",
    "We estimate the model in differences\n",
    "$$\\Delta\\log GDP_t = \\beta\\Delta PCA_t + \\Delta\\log GDP_{t-1} + \\Delta\\epsilon$$\n",
    "\n",
    "As instruments for $\\Delta\\log GDP_{t-1}$ we use lagged values (t>2) of  $\\log GDP$, which are:\n",
    "- Exogenous: only related to future values of $\\Delta\\log GDP_t$ through $\\Delta\\log GDP_{t-1}$\n",
    "- Relevant: related to lagged PCA\n",
    "\n",
    "Depending on the number of lags used: \n",
    "- Anderson-Hsiao: 1 lag\n",
    "- Arellano-Bond: all available"
   ]
  },
  {
   "cell_type": "code",
   "execution_count": 7,
   "metadata": {},
   "outputs": [],
   "source": [
    "df_index = df_model.set_index(['country', 'year'])"
   ]
  },
  {
   "cell_type": "code",
   "execution_count": 8,
   "metadata": {},
   "outputs": [
    {
     "name": "stdout",
     "output_type": "stream",
     "text": [
      "                          IV-GMM Estimation Summary                           \n",
      "==============================================================================\n",
      "Dep. Variable:               Dlog_gdp   R-squared:                      0.1477\n",
      "Estimator:                     IV-GMM   Adj. R-squared:                 0.1370\n",
      "No. Observations:                 567   F-statistic:                    44.059\n",
      "Date:                Mon, Jan 24 2022   P-value (F-stat)                0.0000\n",
      "Time:                        17:36:53   Distribution:                  chi2(7)\n",
      "Cov. Estimator:                robust                                         \n",
      "                                                                              \n",
      "                                   Parameter Estimates                                    \n",
      "==========================================================================================\n",
      "                        Parameter  Std. Err.     T-stat    P-value    Lower CI    Upper CI\n",
      "------------------------------------------------------------------------------------------\n",
      "Dfinancial_hubs           -0.7651     0.2333    -3.2787     0.0010     -1.2224     -0.3077\n",
      "Dfinancial_authorities     0.8914     0.2319     3.8447     0.0001      0.4370      1.3458\n",
      "Dgoods_hubs                0.1987     0.2648     0.7504     0.4530     -0.3203      0.7176\n",
      "Dgoods_authorities        -0.1095     0.2767    -0.3958     0.6922     -0.6518      0.4327\n",
      "Dhuman_hubs               -0.0182     0.0299    -0.6101     0.5418     -0.0769      0.0404\n",
      "Dhuman_favor               0.1301     0.0340     3.8204     0.0001      0.0633      0.1968\n",
      "constant                   0.0227     0.0059     3.8203     0.0001      0.0110      0.0343\n",
      "L1Dlog_gdp                 0.2678     0.0656     4.0840     0.0000      0.1393      0.3964\n",
      "==========================================================================================\n",
      "\n",
      "Endogenous: L1Dlog_gdp\n",
      "Instruments: ILVL_t2007L2, ILVL_t2008L2, ILVL_t2009L2, ILVL_t2010L2, ILVL_t2011L2, ILVL_t2012L2, ILVL_t2013L2, ILVL_t2014L2, ILVL_t2015L2\n",
      "GMM Covariance\n",
      "Debiased: False\n",
      "Robust (Heteroskedastic)\n"
     ]
    },
    {
     "name": "stderr",
     "output_type": "stream",
     "text": [
      "/repos/social_capital_in_trade_networks/notebooks/arellano_bond.py:134: SettingWithCopyWarning: \n",
      "A value is trying to be set on a copy of a slice from a DataFrame.\n",
      "Try using .loc[row_indexer,col_indexer] = value instead\n",
      "\n",
      "See the caveats in the documentation: https://pandas.pydata.org/pandas-docs/stable/user_guide/indexing.html#returning-a-view-versus-a-copy\n",
      "  dropped['CLUSTER_VAR'] = dropped.index.get_level_values(0)\n"
     ]
    }
   ],
   "source": [
    "model = PanelLaggedDep(endog = df_index['log_gdp'],\n",
    "                       exogs = df_index[reduced_terms_list], \n",
    "                       systemGMM = False,\n",
    "                       iv_max_lags=1,\n",
    "                       add_intercept=True,                       \n",
    "                       entity_effects=False,\n",
    "                       weight_type='clustered')\n",
    "\n",
    "results = model.fit()\n",
    "\n",
    "print(results.summary)"
   ]
  },
  {
   "cell_type": "code",
   "execution_count": 9,
   "metadata": {},
   "outputs": [
    {
     "name": "stdout",
     "output_type": "stream",
     "text": [
      "                          IV-GMM Estimation Summary                           \n",
      "==============================================================================\n",
      "Dep. Variable:               Dlog_gdp   R-squared:                      0.0875\n",
      "Estimator:                     IV-GMM   Adj. R-squared:                 0.0810\n",
      "No. Observations:                 567   F-statistic:                    12.977\n",
      "Date:                Mon, Jan 24 2022   P-value (F-stat)                0.0114\n",
      "Time:                        17:36:53   Distribution:                  chi2(4)\n",
      "Cov. Estimator:                robust                                         \n",
      "                                                                              \n",
      "                             Parameter Estimates                              \n",
      "==============================================================================\n",
      "            Parameter  Std. Err.     T-stat    P-value    Lower CI    Upper CI\n",
      "------------------------------------------------------------------------------\n",
      "Dpca_0         0.0223     0.0354     0.6302     0.5285     -0.0471      0.0917\n",
      "Dpca_1        -0.0910     0.0457    -1.9908     0.0465     -0.1807     -0.0014\n",
      "Dpca_2         0.0025     0.0638     0.0397     0.9684     -0.1225      0.1275\n",
      "constant       0.0220     0.0070     3.1250     0.0018      0.0082      0.0357\n",
      "L1Dlog_gdp     0.2673     0.0803     3.3282     0.0009      0.1099      0.4247\n",
      "==============================================================================\n",
      "\n",
      "Endogenous: L1Dlog_gdp\n",
      "Instruments: ILVL_t2007L2, ILVL_t2008L2, ILVL_t2009L2, ILVL_t2010L2, ILVL_t2011L2, ILVL_t2012L2, ILVL_t2013L2, ILVL_t2014L2, ILVL_t2015L2\n",
      "GMM Covariance\n",
      "Debiased: False\n",
      "Robust (Heteroskedastic)\n"
     ]
    }
   ],
   "source": [
    "df_index = df_model.set_index(['country', 'year'])\n",
    "model = PanelLaggedDep(endog = df_index['log_gdp'],\n",
    "                       exogs = df_index[[f'pca_{i}' for i in range(n)]], \n",
    "                       systemGMM = False,\n",
    "                       iv_max_lags=1,\n",
    "                       lags=1,\n",
    "                       add_intercept=True,\n",
    "                       entity_effects=False,\n",
    "                       weight_type='kernel')\n",
    "\n",
    "results = model.fit()\n",
    "\n",
    "print(results.summary)"
   ]
  },
  {
   "cell_type": "code",
   "execution_count": 10,
   "metadata": {},
   "outputs": [
    {
     "name": "stdout",
     "output_type": "stream",
     "text": [
      "                          IV-GMM Estimation Summary                           \n",
      "==============================================================================\n",
      "Dep. Variable:                 Dpca_2   R-squared:                     -0.1840\n",
      "Estimator:                     IV-GMM   Adj. R-squared:                -0.1882\n",
      "No. Observations:                 567   F-statistic:                    2.3392\n",
      "Date:                Mon, Jan 24 2022   P-value (F-stat)                0.3105\n",
      "Time:                        17:36:53   Distribution:                  chi2(2)\n",
      "Cov. Estimator:                robust                                         \n",
      "                                                                              \n",
      "                             Parameter Estimates                              \n",
      "==============================================================================\n",
      "            Parameter  Std. Err.     T-stat    P-value    Lower CI    Upper CI\n",
      "------------------------------------------------------------------------------\n",
      "Dlog_gdp       0.0734     0.1051     0.6987     0.4848     -0.1325      0.2794\n",
      "constant      -0.0089     0.0147    -0.6021     0.5471     -0.0377      0.0200\n",
      "L1Dpca_2       0.4865     0.3281     1.4830     0.1381     -0.1565      1.1295\n",
      "==============================================================================\n",
      "\n",
      "Endogenous: L1Dpca_2\n",
      "Instruments: ILVL_t2007L2, ILVL_t2008L2, ILVL_t2009L2, ILVL_t2010L2, ILVL_t2011L2, ILVL_t2012L2, ILVL_t2013L2, ILVL_t2014L2, ILVL_t2015L2\n",
      "GMM Covariance\n",
      "Debiased: False\n",
      "Robust (Heteroskedastic)\n"
     ]
    },
    {
     "name": "stderr",
     "output_type": "stream",
     "text": [
      "/repos/social_capital_in_trade_networks/notebooks/arellano_bond.py:134: SettingWithCopyWarning: \n",
      "A value is trying to be set on a copy of a slice from a DataFrame.\n",
      "Try using .loc[row_indexer,col_indexer] = value instead\n",
      "\n",
      "See the caveats in the documentation: https://pandas.pydata.org/pandas-docs/stable/user_guide/indexing.html#returning-a-view-versus-a-copy\n",
      "  dropped['CLUSTER_VAR'] = dropped.index.get_level_values(0)\n"
     ]
    }
   ],
   "source": [
    "df_index = df_model.set_index(['country', 'year'])\n",
    "model = PanelLaggedDep(endog = df_index['pca_2'],\n",
    "                       exogs = df_index[['log_gdp']], \n",
    "                       systemGMM = False,\n",
    "                       iv_max_lags=1,\n",
    "                       lags=1, \n",
    "                       add_intercept=True)\n",
    "\n",
    "results = model.fit()\n",
    "\n",
    "print(results.summary)"
   ]
  }
 ],
 "metadata": {
  "kernelspec": {
   "display_name": "Python 3",
   "language": "python",
   "name": "python3"
  },
  "language_info": {
   "codemirror_mode": {
    "name": "ipython",
    "version": 3
   },
   "file_extension": ".py",
   "mimetype": "text/x-python",
   "name": "python",
   "nbconvert_exporter": "python",
   "pygments_lexer": "ipython3",
   "version": "3.7.4"
  }
 },
 "nbformat": 4,
 "nbformat_minor": 2
}
