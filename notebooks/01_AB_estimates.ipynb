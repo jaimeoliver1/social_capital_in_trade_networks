{
 "cells": [
  {
   "cell_type": "code",
   "execution_count": 1,
   "metadata": {},
   "outputs": [],
   "source": [
    "%load_ext autoreload\n",
    "%autoreload 2"
   ]
  },
  {
   "cell_type": "code",
   "execution_count": 2,
   "metadata": {},
   "outputs": [],
   "source": [
    "import autoreload"
   ]
  },
  {
   "cell_type": "code",
   "execution_count": 3,
   "metadata": {},
   "outputs": [],
   "source": [
    "try:\n",
    "    output_filepath\n",
    "except:\n",
    "    output_filepath = 's3://workspaces-clarity-mgmt-pro/jaime.oliver/misc/social_capital/data/processed_3/'\n",
    "    input_filepath = 's3://workspaces-clarity-mgmt-pro/jaime.oliver/misc/social_capital/data/raw/'"
   ]
  },
  {
   "cell_type": "code",
   "execution_count": 4,
   "metadata": {},
   "outputs": [],
   "source": [
    "import pandas as pd\n",
    "import numpy as np\n",
    "import os\n",
    "from utils import data_loader\n",
    "import seaborn as sns\n",
    "import matplotlib.pyplot as plt\n",
    "\n",
    "from linearmodels.iv import IV2SLS, IVGMM\n",
    "from linearmodels.iv.results import compare\n",
    "\n",
    "from sklearn.preprocessing import StandardScaler\n",
    "from sklearn.decomposition import PCA\n",
    "from sklearn.pipeline import Pipeline\n",
    "\n",
    "from arellano_bond import PanelLaggedDep"
   ]
  },
  {
   "cell_type": "code",
   "execution_count": 5,
   "metadata": {},
   "outputs": [],
   "source": [
    "reduced_terms_list, df_model = data_loader(output_filepath)\n",
    "df_model = df_model[df_model.year.between(1993, 2016)]"
   ]
  },
  {
   "cell_type": "code",
   "execution_count": 6,
   "metadata": {},
   "outputs": [
    {
     "data": {
      "text/plain": [
       "Text(0, 0.5, 'cumulative explained variance')"
      ]
     },
     "execution_count": 6,
     "metadata": {},
     "output_type": "execute_result"
    },
    {
     "data": {
      "image/png": "[encoded data removed]",
      "text/plain": [
       "<Figure size 432x288 with 1 Axes>"
      ]
     },
     "metadata": {
      "needs_background": "light"
     },
     "output_type": "display_data"
    }
   ],
   "source": [
    "n = 3\n",
    "\n",
    "pipe = Pipeline([\n",
    "        ('scale', StandardScaler()),\n",
    "        ('reduce_dims', PCA(n_components=n))]\n",
    "        )\n",
    "\n",
    "df_model[[f'pca_{i}' for i in range(n)]] = pipe.fit_transform(df_model[reduced_terms_list])\n",
    "\n",
    "pipe = Pipeline([\n",
    "        ('scale', StandardScaler()),\n",
    "        ('reduce_dims', PCA(n_components=n))]\n",
    "        )\n",
    "pipe.fit(df_model[reduced_terms_list])\n",
    "\n",
    "plt.plot(np.cumsum(pipe['reduce_dims'].explained_variance_ratio_))\n",
    "plt.xlabel('number of components')\n",
    "plt.ylabel('cumulative explained variance')"
   ]
  },
  {
   "cell_type": "markdown",
   "metadata": {},
   "source": [
    "## Anderson Hsiao / Arellano bond estimates\n",
    "Suspecting there is reverse causality, we introduce the endogenouos variable as a regressor to reduce it:\n",
    "$$\\log GDP_t = \\beta PCA_t + \\log GDP_{t-1} + \\Delta\\epsilon$$\n",
    "\n",
    "We estimate the model in differences\n",
    "$$\\Delta\\log GDP_t = \\beta\\Delta PCA_t + \\Delta\\log GDP_{t-1} + \\Delta\\epsilon$$\n",
    "\n",
    "As instruments for $\\Delta\\log GDP_{t-1}$ we use lagged values (t>2) of  $\\log GDP$, which are:\n",
    "- Exogenous: only related to future values of $\\Delta\\log GDP_t$ through $\\Delta\\log GDP_{t-1}$\n",
    "- Relevant: related to lagged PCA\n",
    "\n",
    "Depending on the number of lags used: \n",
    "- Anderson-Hsiao: 1 lag\n",
    "- Arellano-Bond: all available"
   ]
  },
  {
   "cell_type": "code",
   "execution_count": 7,
   "metadata": {},
   "outputs": [],
   "source": [
    "df_index = df_model.set_index(['country', 'year'])"
   ]
  },
  {
   "cell_type": "code",
   "execution_count": 8,
   "metadata": {},
   "outputs": [
    {
     "name": "stderr",
     "output_type": "stream",
     "text": [
      "/repos/social_capital_in_trade_networks/notebooks/arellano_bond.py:134: SettingWithCopyWarning: \n",
      "A value is trying to be set on a copy of a slice from a DataFrame.\n",
      "Try using .loc[row_indexer,col_indexer] = value instead\n",
      "\n",
      "See the caveats in the documentation: https://pandas.pydata.org/pandas-docs/stable/user_guide/indexing.html#returning-a-view-versus-a-copy\n",
      "  dropped['CLUSTER_VAR'] = dropped.index.get_level_values(0)\n"
     ]
    },
    {
     "name": "stdout",
     "output_type": "stream",
     "text": [
      "                          IV-GMM Estimation Summary                           \n",
      "==============================================================================\n",
      "Dep. Variable:               Dlog_gdp   R-squared:                      0.1126\n",
      "Estimator:                     IV-GMM   Adj. R-squared:                 0.1015\n",
      "No. Observations:                 567   F-statistic:                    35.671\n",
      "Date:                Tue, Feb 01 2022   P-value (F-stat)                0.0000\n",
      "Time:                        12:20:43   Distribution:                  chi2(7)\n",
      "Cov. Estimator:                robust                                         \n",
      "                                                                              \n",
      "                                   Parameter Estimates                                    \n",
      "==========================================================================================\n",
      "                        Parameter  Std. Err.     T-stat    P-value    Lower CI    Upper CI\n",
      "------------------------------------------------------------------------------------------\n",
      "Dfinancial_hubs           -0.7255     0.2526    -2.8718     0.0041     -1.2207     -0.2304\n",
      "Dfinancial_authorities     0.8433     0.2663     3.1664     0.0015      0.3213      1.3653\n",
      "Dgoods_hubs                0.2218     0.2638     0.8406     0.4006     -0.2953      0.7389\n",
      "Dgoods_authorities        -0.1130     0.2726    -0.4144     0.6786     -0.6473      0.4214\n",
      "Dhuman_hubs                0.0369     0.0301     1.2278     0.2195     -0.0220      0.0959\n",
      "Dhuman_in_favor            0.0129     0.0094     1.3657     0.1720     -0.0056      0.0314\n",
      "constant                   0.0296     0.0058     5.1146     0.0000      0.0182      0.0409\n",
      "L1Dlog_gdp                 0.2374     0.0639     3.7138     0.0002      0.1121      0.3626\n",
      "==========================================================================================\n",
      "\n",
      "Endogenous: L1Dlog_gdp\n",
      "Instruments: ILVL_t2007L2, ILVL_t2008L2, ILVL_t2009L2, ILVL_t2010L2, ILVL_t2011L2, ILVL_t2012L2, ILVL_t2013L2, ILVL_t2014L2, ILVL_t2015L2\n",
      "GMM Covariance\n",
      "Debiased: False\n",
      "Robust (Heteroskedastic)\n"
     ]
    }
   ],
   "source": [
    "model = PanelLaggedDep(endog = df_index['log_gdp'],\n",
    "                       exogs = df_index[reduced_terms_list], \n",
    "                       systemGMM = False,\n",
    "                       iv_max_lags=1,\n",
    "                       add_intercept=True,                       \n",
    "                       entity_effects=False,\n",
    "                       weight_type='clustered')\n",
    "\n",
    "results = model.fit()\n",
    "\n",
    "print(results.summary)"
   ]
  },
  {
   "cell_type": "code",
   "execution_count": 9,
   "metadata": {},
   "outputs": [
    {
     "name": "stdout",
     "output_type": "stream",
     "text": [
      "                          IV-GMM Estimation Summary                           \n",
      "==============================================================================\n",
      "Dep. Variable:               Dlog_gdp   R-squared:                      0.0736\n",
      "Estimator:                     IV-GMM   Adj. R-squared:                 0.0670\n",
      "No. Observations:                 567   F-statistic:                    11.257\n",
      "Date:                Tue, Feb 01 2022   P-value (F-stat)                0.0238\n",
      "Time:                        12:20:43   Distribution:                  chi2(4)\n",
      "Cov. Estimator:                robust                                         \n",
      "                                                                              \n",
      "                             Parameter Estimates                              \n",
      "==============================================================================\n",
      "            Parameter  Std. Err.     T-stat    P-value    Lower CI    Upper CI\n",
      "------------------------------------------------------------------------------\n",
      "Dpca_0         0.0545     0.0354     1.5410     0.1233     -0.0148      0.1238\n",
      "Dpca_1        -0.0638     0.0483    -1.3191     0.1871     -0.1585      0.0310\n",
      "Dpca_2         0.0254     0.0418     0.6063     0.5443     -0.0566      0.1073\n",
      "constant       0.0242     0.0066     3.6696     0.0002      0.0113      0.0372\n",
      "L1Dlog_gdp     0.2546     0.0791     3.2179     0.0013      0.0995      0.4096\n",
      "==============================================================================\n",
      "\n",
      "Endogenous: L1Dlog_gdp\n",
      "Instruments: ILVL_t2007L2, ILVL_t2008L2, ILVL_t2009L2, ILVL_t2010L2, ILVL_t2011L2, ILVL_t2012L2, ILVL_t2013L2, ILVL_t2014L2, ILVL_t2015L2\n",
      "GMM Covariance\n",
      "Debiased: False\n",
      "Robust (Heteroskedastic)\n"
     ]
    }
   ],
   "source": [
    "df_index = df_model.set_index(['country', 'year'])\n",
    "model = PanelLaggedDep(endog = df_index['log_gdp'],\n",
    "                       exogs = df_index[[f'pca_{i}' for i in range(n)]], \n",
    "                       systemGMM = False,\n",
    "                       iv_max_lags=1,\n",
    "                       lags=1,\n",
    "                       add_intercept=True,\n",
    "                       entity_effects=False,\n",
    "                       weight_type='kernel')\n",
    "\n",
    "results = model.fit()\n",
    "\n",
    "print(results.summary)"
   ]
  },
  {
   "cell_type": "code",
   "execution_count": 10,
   "metadata": {},
   "outputs": [
    {
     "name": "stdout",
     "output_type": "stream",
     "text": [
      "                          IV-GMM Estimation Summary                           \n",
      "==============================================================================\n",
      "Dep. Variable:                 Dpca_2   R-squared:                     -0.0345\n",
      "Estimator:                     IV-GMM   Adj. R-squared:                -0.0382\n",
      "No. Observations:                 567   F-statistic:                    3.5799\n",
      "Date:                Tue, Feb 01 2022   P-value (F-stat)                0.1670\n",
      "Time:                        12:20:44   Distribution:                  chi2(2)\n",
      "Cov. Estimator:                robust                                         \n",
      "                                                                              \n",
      "                             Parameter Estimates                              \n",
      "==============================================================================\n",
      "            Parameter  Std. Err.     T-stat    P-value    Lower CI    Upper CI\n",
      "------------------------------------------------------------------------------\n",
      "Dlog_gdp       0.1345     0.0802     1.6776     0.0934     -0.0226      0.2916\n",
      "constant      -0.0195     0.0097    -2.0039     0.0451     -0.0386     -0.0004\n",
      "L1Dpca_2       0.3394     0.4096     0.8287     0.4073     -0.4634      1.1422\n",
      "==============================================================================\n",
      "\n",
      "Endogenous: L1Dpca_2\n",
      "Instruments: ILVL_t2007L2, ILVL_t2008L2, ILVL_t2009L2, ILVL_t2010L2, ILVL_t2011L2, ILVL_t2012L2, ILVL_t2013L2, ILVL_t2014L2, ILVL_t2015L2\n",
      "GMM Covariance\n",
      "Debiased: False\n",
      "Robust (Heteroskedastic)\n"
     ]
    },
    {
     "name": "stderr",
     "output_type": "stream",
     "text": [
      "/repos/social_capital_in_trade_networks/notebooks/arellano_bond.py:134: SettingWithCopyWarning: \n",
      "A value is trying to be set on a copy of a slice from a DataFrame.\n",
      "Try using .loc[row_indexer,col_indexer] = value instead\n",
      "\n",
      "See the caveats in the documentation: https://pandas.pydata.org/pandas-docs/stable/user_guide/indexing.html#returning-a-view-versus-a-copy\n",
      "  dropped['CLUSTER_VAR'] = dropped.index.get_level_values(0)\n"
     ]
    }
   ],
   "source": [
    "df_index = df_model.set_index(['country', 'year'])\n",
    "model = PanelLaggedDep(endog = df_index['pca_2'],\n",
    "                       exogs = df_index[['log_gdp']], \n",
    "                       systemGMM = False,\n",
    "                       iv_max_lags=1,\n",
    "                       lags=1, \n",
    "                       add_intercept=True)\n",
    "\n",
    "results = model.fit()\n",
    "\n",
    "print(results.summary)"
   ]
  }
 ],
 "metadata": {
  "kernelspec": {
   "display_name": "Python 3",
   "language": "python",
   "name": "python3"
  },
  "language_info": {
   "codemirror_mode": {
    "name": "ipython",
    "version": 3
   },
   "file_extension": ".py",
   "mimetype": "text/x-python",
   "name": "python",
   "nbconvert_exporter": "python",
   "pygments_lexer": "ipython3",
   "version": "3.7.4"
  }
 },
 "nbformat": 4,
 "nbformat_minor": 2
}
