{
 "cells": [
  {
   "cell_type": "code",
   "execution_count": 1,
   "source": [
    "try:\n",
    "    output_filepath\n",
    "except:\n",
    "    output_filepath = 's3://workspaces-clarity-mgmt-pro/jaime.oliver/misc/social_capital/'\n",
    "    input_filepath = '../data/raw/'"
   ],
   "outputs": [],
   "metadata": {}
  },
  {
   "cell_type": "code",
   "execution_count": 2,
   "source": [
    "%load_ext autoreload\n",
    "%autoreload 2"
   ],
   "outputs": [],
   "metadata": {}
  },
  {
   "cell_type": "code",
   "execution_count": 3,
   "source": [
    "import os\n",
    "from pathlib import Path\n",
    "\n",
    "import pandas as pd\n",
    "\n",
    "import matplotlib.pyplot as plt\n",
    "import seaborn as sns\n",
    "import networkx as nx\n",
    "\n",
    "from src.data.migration_network import MigrationNetworkCreation\n",
    "from src.data.financial_network import IndustryNetworkCreationEORA\n"
   ],
   "outputs": [],
   "metadata": {}
  },
  {
   "cell_type": "code",
   "execution_count": 4,
   "source": [
    "year='2015'\n",
    "\n",
    "def get_networks(year):\n",
    "    INC = IndustryNetworkCreationEORA(\n",
    "                year=year, input_filepath='../data/raw/', output_filepath='../data/processed/'\n",
    "            )\n",
    "    INC.run()\n",
    "\n",
    "    MNC = MigrationNetworkCreation(\n",
    "        year=year, input_filepath='../data/raw/', output_filepath='../data/processed/'\n",
    "    )\n",
    "    MNC.run()\n",
    "\n",
    "    return INC.A, INC.B, MNC.G\n",
    "\n",
    "\n",
    "A, B, M = get_networks(year = '2015')\n"
   ],
   "outputs": [],
   "metadata": {}
  },
  {
   "cell_type": "code",
   "execution_count": 8,
   "source": [
    "G = nx.from_numpy_array(A)"
   ],
   "outputs": [],
   "metadata": {}
  },
  {
   "cell_type": "code",
   "execution_count": 14,
   "source": [
    "from src.utils.utils_s3 import read_s3_graphml, write_s3_graphml\n",
    "\n",
    "\n",
    "bucket='workspaces-clarity-mgmt-pro'\n",
    "s3_path='jaime.oliver/misc/social_capital/data/test/G.graphml'\n",
    "local_network_path = f'G.graphml'\n",
    "\n",
    "write_s3_graphml(G, bucket, s3_path)\n",
    "G_read = read_s3_graphml(bucket, s3_path)"
   ],
   "outputs": [],
   "metadata": {}
  }
 ],
 "metadata": {
  "interpreter": {
   "hash": "0137509aeee41b6d8245b86b24b32564e2f855d484a78439eac598d962178cd4"
  },
  "kernelspec": {
   "display_name": "Python 3.7.7 64-bit ('social_capital_in_trade_networks': virtualenvwrapper)",
   "name": "python3"
  },
  "language_info": {
   "codemirror_mode": {
    "name": "ipython",
    "version": 3
   },
   "file_extension": ".py",
   "mimetype": "text/x-python",
   "name": "python",
   "nbconvert_exporter": "python",
   "pygments_lexer": "ipython3",
   "version": "3.7.7"
  }
 },
 "nbformat": 4,
 "nbformat_minor": 2
}