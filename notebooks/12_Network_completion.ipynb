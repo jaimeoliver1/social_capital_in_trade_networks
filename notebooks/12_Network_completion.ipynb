{
 "cells": [
  {
   "cell_type": "markdown",
   "metadata": {},
   "source": [
    "## Migration network completion\n",
    "There are evidences that migration and trade networks are linked [1]. As we are missing many of the migration links, in this notebook we explore the possibility of completing the migration network using trande network info\n",
    "\n",
    "[1] Sgrignoli, P., Metulini, R., Schiavo, S., Riccaboni, M., 2015. The relation between global migration and trade networks. Physica A: Statistical Mechanics and its Applications 417, 245–260. https://doi.org/10.1016/j.physa.2014.09.037\n",
    "\n"
   ]
  },
  {
   "cell_type": "code",
   "execution_count": 1,
   "metadata": {},
   "outputs": [],
   "source": [
    "try:\n",
    "    output_filepath\n",
    "except:\n",
    "    output_filepath = 's3://workspaces-clarity-mgmt-pro/jaime.oliver/misc/social_capital/data/processed/'\n",
    "    input_filepath = 's3://workspaces-clarity-mgmt-pro/jaime.oliver/misc/social_capital/data/raw/'"
   ]
  },
  {
   "cell_type": "code",
   "execution_count": 2,
   "metadata": {},
   "outputs": [],
   "source": [
    "%load_ext autoreload\n",
    "%autoreload 2"
   ]
  },
  {
   "cell_type": "code",
   "execution_count": 209,
   "metadata": {},
   "outputs": [],
   "source": [
    "import os\n",
    "from pathlib import Path\n",
    "\n",
    "import pandas as pd\n",
    "\n",
    "import matplotlib.pyplot as plt\n",
    "import seaborn as sns\n",
    "import networkx as nx\n",
    "\n",
    "from urllib.parse import urlparse\n",
    "from functools import reduce\n",
    "\n",
    "from src.utils.utils_s3 import read_s3_graphml"
   ]
  },
  {
   "cell_type": "code",
   "execution_count": 4,
   "metadata": {},
   "outputs": [],
   "source": [
    "year='2015'"
   ]
  },
  {
   "cell_type": "code",
   "execution_count": 203,
   "metadata": {},
   "outputs": [],
   "source": [
    "B = read_s3_graphml(os.path.join(output_filepath, year, 'B_country.graphml'))\n",
    "A = read_s3_graphml(os.path.join(output_filepath, year, 'A_country.graphml'))\n",
    "M = read_s3_graphml(os.path.join(output_filepath, year, 'migration_network.graphml'))"
   ]
  },
  {
   "cell_type": "code",
   "execution_count": 65,
   "metadata": {},
   "outputs": [],
   "source": [
    "df_list = []\n",
    "\n",
    "for network in A, B, M:\n",
    "    link_list = [(c1, c2, w['weight']) for c1, c2, w in network.edges(data=True)]\n",
    "    df_ = pd.DataFrame(link_list, columns = ['country_from', 'country_to', 'weight'])\n",
    "    df_.set_index(['country_from', 'country_to'], inplace=True)\n",
    "    \n",
    "    df_list.append(df_)"
   ]
  },
  {
   "cell_type": "code",
   "execution_count": 78,
   "metadata": {},
   "outputs": [],
   "source": [
    "df = reduce(lambda df1,df2: pd.merge(df1,df2,on=['country_from', 'country_to'], how='outer'), df_list)\n",
    "df.columns = ['a_link', 'b_link', 'm_link']"
   ]
  },
  {
   "cell_type": "code",
   "execution_count": 89,
   "metadata": {},
   "outputs": [
    {
     "data": {
      "text/html": [
       "<div>\n",
       "<style scoped>\n",
       "    .dataframe tbody tr th:only-of-type {\n",
       "        vertical-align: middle;\n",
       "    }\n",
       "\n",
       "    .dataframe tbody tr th {\n",
       "        vertical-align: top;\n",
       "    }\n",
       "\n",
       "    .dataframe thead th {\n",
       "        text-align: right;\n",
       "    }\n",
       "</style>\n",
       "<table border=\"1\" class=\"dataframe\">\n",
       "  <thead>\n",
       "    <tr style=\"text-align: right;\">\n",
       "      <th></th>\n",
       "      <th>a_link</th>\n",
       "      <th>b_link</th>\n",
       "      <th>m_link</th>\n",
       "    </tr>\n",
       "  </thead>\n",
       "  <tbody>\n",
       "    <tr>\n",
       "      <th>count</th>\n",
       "      <td>3.609900e+04</td>\n",
       "      <td>3.609900e+04</td>\n",
       "      <td>4.996000e+03</td>\n",
       "    </tr>\n",
       "    <tr>\n",
       "      <th>mean</th>\n",
       "      <td>2.662586e-03</td>\n",
       "      <td>2.585357e-03</td>\n",
       "      <td>2.490384e-04</td>\n",
       "    </tr>\n",
       "    <tr>\n",
       "      <th>std</th>\n",
       "      <td>2.951920e-02</td>\n",
       "      <td>2.941462e-02</td>\n",
       "      <td>1.834524e-03</td>\n",
       "    </tr>\n",
       "    <tr>\n",
       "      <th>min</th>\n",
       "      <td>3.494289e-11</td>\n",
       "      <td>2.453964e-10</td>\n",
       "      <td>0.000000e+00</td>\n",
       "    </tr>\n",
       "    <tr>\n",
       "      <th>25%</th>\n",
       "      <td>5.660713e-06</td>\n",
       "      <td>6.929959e-06</td>\n",
       "      <td>8.747368e-07</td>\n",
       "    </tr>\n",
       "    <tr>\n",
       "      <th>50%</th>\n",
       "      <td>2.848555e-05</td>\n",
       "      <td>2.781350e-05</td>\n",
       "      <td>8.948309e-06</td>\n",
       "    </tr>\n",
       "    <tr>\n",
       "      <th>75%</th>\n",
       "      <td>1.654927e-04</td>\n",
       "      <td>1.200384e-04</td>\n",
       "      <td>5.760262e-05</td>\n",
       "    </tr>\n",
       "    <tr>\n",
       "      <th>max</th>\n",
       "      <td>6.129783e-01</td>\n",
       "      <td>8.945897e-01</td>\n",
       "      <td>5.859059e-02</td>\n",
       "    </tr>\n",
       "  </tbody>\n",
       "</table>\n",
       "</div>"
      ],
      "text/plain": [
       "             a_link        b_link        m_link\n",
       "count  3.609900e+04  3.609900e+04  4.996000e+03\n",
       "mean   2.662586e-03  2.585357e-03  2.490384e-04\n",
       "std    2.951920e-02  2.941462e-02  1.834524e-03\n",
       "min    3.494289e-11  2.453964e-10  0.000000e+00\n",
       "25%    5.660713e-06  6.929959e-06  8.747368e-07\n",
       "50%    2.848555e-05  2.781350e-05  8.948309e-06\n",
       "75%    1.654927e-04  1.200384e-04  5.760262e-05\n",
       "max    6.129783e-01  8.945897e-01  5.859059e-02"
      ]
     },
     "execution_count": 89,
     "metadata": {},
     "output_type": "execute_result"
    }
   ],
   "source": [
    "df.describe()"
   ]
  },
  {
   "cell_type": "markdown",
   "metadata": {},
   "source": [
    "## Simple regression model"
   ]
  },
  {
   "cell_type": "code",
   "execution_count": 91,
   "metadata": {},
   "outputs": [],
   "source": [
    "df_model = df[df.b_link>1.e-6]\n",
    "df_model = df_model.dropna()"
   ]
  },
  {
   "cell_type": "code",
   "execution_count": 108,
   "metadata": {},
   "outputs": [
    {
     "data": {
      "text/html": [
       "<table class=\"simpletable\">\n",
       "<caption>QuantReg Regression Results</caption>\n",
       "<tr>\n",
       "  <th>Dep. Variable:</th>      <td>m_link</td>      <th>  Pseudo R-squared:  </th> <td>  0.3913</td> \n",
       "</tr>\n",
       "<tr>\n",
       "  <th>Model:</th>             <td>QuantReg</td>     <th>  Bandwidth:         </th> <td>0.0004751</td>\n",
       "</tr>\n",
       "<tr>\n",
       "  <th>Method:</th>          <td>Least Squares</td>  <th>  Sparsity:          </th> <td>0.002838</td> \n",
       "</tr>\n",
       "<tr>\n",
       "  <th>Date:</th>          <td>Tue, 03 Aug 2021</td> <th>  No. Observations:  </th>  <td>  4586</td>  \n",
       "</tr>\n",
       "<tr>\n",
       "  <th>Time:</th>              <td>09:18:04</td>     <th>  Df Residuals:      </th>  <td>  4583</td>  \n",
       "</tr>\n",
       "<tr>\n",
       "  <th> </th>                      <td> </td>        <th>  Df Model:          </th>  <td>     2</td>  \n",
       "</tr>\n",
       "</table>\n",
       "<table class=\"simpletable\">\n",
       "<tr>\n",
       "     <td></td>       <th>coef</th>     <th>std err</th>      <th>t</th>      <th>P>|t|</th>  <th>[0.025</th>    <th>0.975]</th>  \n",
       "</tr>\n",
       "<tr>\n",
       "  <th>const</th>  <td>    0.0002</td> <td> 4.39e-06</td> <td>   46.442</td> <td> 0.000</td> <td>    0.000</td> <td>    0.000</td>\n",
       "</tr>\n",
       "<tr>\n",
       "  <th>a_link</th> <td>    1.3412</td> <td>    0.001</td> <td> 1363.575</td> <td> 0.000</td> <td>    1.339</td> <td>    1.343</td>\n",
       "</tr>\n",
       "<tr>\n",
       "  <th>b_link</th> <td>   -0.0225</td> <td>    0.001</td> <td>  -20.269</td> <td> 0.000</td> <td>   -0.025</td> <td>   -0.020</td>\n",
       "</tr>\n",
       "</table>"
      ],
      "text/plain": [
       "<class 'statsmodels.iolib.summary.Summary'>\n",
       "\"\"\"\n",
       "                         QuantReg Regression Results                          \n",
       "==============================================================================\n",
       "Dep. Variable:                 m_link   Pseudo R-squared:               0.3913\n",
       "Model:                       QuantReg   Bandwidth:                   0.0004751\n",
       "Method:                 Least Squares   Sparsity:                     0.002838\n",
       "Date:                Tue, 03 Aug 2021   No. Observations:                 4586\n",
       "Time:                        09:18:04   Df Residuals:                     4583\n",
       "                                        Df Model:                            2\n",
       "==============================================================================\n",
       "                 coef    std err          t      P>|t|      [0.025      0.975]\n",
       "------------------------------------------------------------------------------\n",
       "const          0.0002   4.39e-06     46.442      0.000       0.000       0.000\n",
       "a_link         1.3412      0.001   1363.575      0.000       1.339       1.343\n",
       "b_link        -0.0225      0.001    -20.269      0.000      -0.025      -0.020\n",
       "==============================================================================\n",
       "\"\"\""
      ]
     },
     "execution_count": 108,
     "metadata": {},
     "output_type": "execute_result"
    }
   ],
   "source": [
    "import statsmodels.api as sm\n",
    "from statsmodels.regression.quantile_regression import QuantReg\n",
    "    \n",
    "y = df_model['m_link']\n",
    "X = df_model[['a_link', 'b_link']]\n",
    "X = sm.add_constant(X)\n",
    "\n",
    "model = sm.OLS(y,X)\n",
    "model = QuantReg(y,X)\n",
    "\n",
    "results = model.fit(q=.99)\n",
    "\n",
    "results.summary()"
   ]
  },
  {
   "cell_type": "markdown",
   "metadata": {},
   "source": [
    "## Dummy model\n",
    "DIOC-E (release 3.0) (year 2000) data found in https://www.un.org/en/development/desa/population/migration/data/estimates2/estimates19.asp"
   ]
  },
  {
   "cell_type": "code",
   "execution_count": 206,
   "metadata": {},
   "outputs": [],
   "source": [
    "class EstimatedMigrationNetwork:\n",
    "    \n",
    "    def __init__(self, input_filepath, output_filepath):\n",
    "        self.input_filepath = input_filepath\n",
    "        self.output_filepath = output_filepath\n",
    "        \n",
    "    def load_emigration_rates(self):\n",
    "\n",
    "        df_emigration_rate = pd.read_csv(os.path.join(self.input_filepath,'File4_DIOC-E_3_Emigration Rates.csv'), encoding='latin-1')\n",
    "        columns = ['coub', 'ERT1']\n",
    "        df_emigration_rate = df_emigration_rate.loc[df_emigration_rate.sex == 'Total', columns]\n",
    "        df_emigration_rate.columns = ['country', 'emigration_rate']\n",
    "        df_emigration_rate['emigration_rate'] = df_emigration_rate['emigration_rate']/100\n",
    "        df_emigration_rate.dropna(inplace=True)\n",
    "        \n",
    "        self.emigration_rate = dict(zip(df_emigration_rate.country, df_emigration_rate.emigration_rate))\n",
    "        \n",
    "    def load_trade_network(self, year):\n",
    "        \n",
    "        self.estimated_M = read_s3_graphml(os.path.join(self.output_filepath, year, 'B_country.graphml'))\n",
    "        \n",
    "    def estimate_emigration_rate(self):\n",
    "        \n",
    "        for u,v,d in self.estimated_M.edges(data=True):\n",
    "            d['weight']*=self.emigration_rate.get(u, np.nan)\n",
    "            if u==v:d['weight'] = 0\n",
    "                \n",
    "        \n",
    "        \n",
    "e = EstimatedMigrationNetwork(input_filepath, output_filepath)\n",
    "e.load_emigration_rates()\n",
    "e.load_trade_network(year = '2015')\n",
    "e.estimate_emigration_rate()"
   ]
  },
  {
   "cell_type": "code",
   "execution_count": 232,
   "metadata": {},
   "outputs": [
    {
     "data": {
      "text/plain": [
       "0.3660222825990804"
      ]
     },
     "execution_count": 232,
     "metadata": {},
     "output_type": "execute_result"
    }
   ],
   "source": [
    "np.sum([w['weight'] for c,w in e.estimated_M['ABW'].items()])"
   ]
  },
  {
   "cell_type": "code",
   "execution_count": 234,
   "metadata": {},
   "outputs": [
    {
     "data": {
      "text/plain": [
       "ItemsView(AtlasView({'KOR': {'weight': 0.5674253619734483}, 'ABW': {'weight': 0.00015857971799605774}, 'AFG': {'weight': 2.4716840266398638e-05}, 'AGO': {'weight': 0.007509106418887963}, 'ALB': {'weight': 5.2451260331528324e-05}, 'AND': {'weight': 0.0007800957796924829}, 'ANT': {'weight': 0.00015428840061372143}, 'ARE': {'weight': 0.0109198596228619}, 'ARG': {'weight': 0.0003506522194906659}, 'ARM': {'weight': 7.482054036623825e-05}, 'ATG': {'weight': 0.003440652565985963}, 'AUS': {'weight': 0.005865379911781617}, 'AUT': {'weight': 0.0019314834473777066}, 'AZE': {'weight': 6.312204675588714e-05}, 'BDI': {'weight': 0.0002137868744309302}, 'BEL': {'weight': 0.002243845883918512}, 'BEN': {'weight': 5.5572941067092175e-05}, 'BFA': {'weight': 4.880415062456567e-05}, 'BGD': {'weight': 0.0008958648413963196}, 'BGR': {'weight': 0.00032984010089605505}, 'BHR': {'weight': 0.009985731741118933}, 'BHS': {'weight': 7.932481976134514e-05}, 'BIH': {'weight': 3.313264382562785e-05}, 'BLR': {'weight': 0.0002653569983575166}, 'BLZ': {'weight': 0.0008400287468954409}, 'BMU': {'weight': 6.520130635022476e-05}, 'BOL': {'weight': 0.0006175693161754044}, 'BRA': {'weight': 0.0005957716058125851}, 'BRB': {'weight': 7.60320801237081e-05}, 'BRN': {'weight': 0.04913647136364778}, 'BTN': {'weight': 0.000341209443513465}, 'BWA': {'weight': 3.540441226037776e-05}, 'CAF': {'weight': 0.00021883409545140256}, 'CAN': {'weight': 0.0015096963431496997}, 'CHE': {'weight': 0.002412143479121601}, 'CHL': {'weight': 0.00532260356601941}, 'CHN': {'weight': 0.0031017159557311467}, 'CIV': {'weight': 2.5763224220367104e-05}, 'CMR': {'weight': 0.0003387418537781706}, 'COD': {'weight': 0.00011136295156118495}, 'COG': {'weight': 0.03187099505298129}, 'COL': {'weight': 0.00030680407543518554}, 'CPV': {'weight': 0.0002386254924009649}, 'CRI': {'weight': 0.0008649801762000359}, 'CUB': {'weight': 0.00017536777365324485}, 'CYM': {'weight': 0.00010767180889104004}, 'CYP': {'weight': 7.82409294739903e-05}, 'CZE': {'weight': 0.0012999745587929054}, 'DEU': {'weight': 0.0019086147398164374}, 'DJI': {'weight': 0.0003257564117232279}, 'DNK': {'weight': 0.0020186275208036474}, 'DOM': {'weight': 0.0008343462560469948}, 'DZA': {'weight': 0.0002661809376843738}, 'ECU': {'weight': 0.008279532434966383}, 'EGY': {'weight': 0.0007465322963959337}, 'ERI': {'weight': 0.0002217620247091143}, 'ESP': {'weight': 0.0006790334576157822}, 'EST': {'weight': 0.000443635712098836}, 'ETH': {'weight': 0.00023696901414080532}, 'FIN': {'weight': 0.0033246291677859713}, 'FJI': {'weight': 0.0011724124781141505}, 'FRA': {'weight': 0.0017235412270276782}, 'GAB': {'weight': 0.007664803009373183}, 'GBR': {'weight': 0.0014440522902814997}, 'GEO': {'weight': 0.0006372940704557706}, 'GHA': {'weight': 0.001768767857006641}, 'GIN': {'weight': 0.006873992891621722}, 'GMB': {'weight': 0.00025536458137540865}, 'GRC': {'weight': 0.00024281311451112452}, 'GRL': {'weight': 0.00019821973671106232}, 'GTM': {'weight': 0.00031540383108454923}, 'GUY': {'weight': 1.6905517204458198e-05}, 'HKG': {'weight': 0.005312191039857012}, 'HND': {'weight': 0.000508087944199613}, 'HRV': {'weight': 3.931531478765321e-05}, 'HTI': {'weight': 5.227010945408966e-05}, 'HUN': {'weight': 0.0014024630224583664}, 'IDN': {'weight': 0.015466261816329015}, 'IND': {'weight': 0.0015328241951577104}, 'IRL': {'weight': 0.0018275705609389003}, 'IRN': {'weight': 0.008603724935523905}, 'IRQ': {'weight': 0.0020765170585539594}, 'ISL': {'weight': 0.0005818149212656945}, 'ISR': {'weight': 0.0014397087135999524}, 'ITA': {'weight': 0.0015975570855438143}, 'JAM': {'weight': 3.716105957448156e-05}, 'JOR': {'weight': 0.0002202191019549804}, 'JPN': {'weight': 0.0059217732130733254}, 'KAZ': {'weight': 0.0015872338543545643}, 'KEN': {'weight': 0.00013326681969877595}, 'KGZ': {'weight': 0.00028466799485024017}, 'KHM': {'weight': 0.0005486465394558854}, 'KWT': {'weight': 0.03897046795320786}, 'LAO': {'weight': 0.0001153208743534373}, 'LBN': {'weight': 4.439799840194046e-05}, 'LBR': {'weight': 0.0009991756862093104}, 'LBY': {'weight': 2.343404858385357e-05}, 'LIE': {'weight': 8.757365864522999e-05}, 'LKA': {'weight': 0.0025276251100921536}, 'LSO': {'weight': 0.00020516344593027666}, 'LTU': {'weight': 0.00040943450852779314}, 'LUX': {'weight': 0.0006130313446398895}, 'LVA': {'weight': 8.678975752615445e-05}, 'MAC': {'weight': 9.397367211492151e-05}, 'MAR': {'weight': 0.0007420605459490675}, 'MCO': {'weight': 0.00010744608808499745}, 'MDA': {'weight': 0.00026554286493942733}, 'MDG': {'weight': 0.0002656857176197596}, 'MDV': {'weight': 0.00023155976565950376}, 'MEX': {'weight': 0.00042856810768015076}, 'MKD': {'weight': 9.936228565578299e-05}, 'MLI': {'weight': 0.0002862255394384494}, 'MLT': {'weight': 0.0045743511438326775}, 'MMR': {'weight': 0.0007423799065616179}, 'MNE': {'weight': 0.000198869551364404}, 'MNG': {'weight': 0.023086920102084053}, 'MOZ': {'weight': 5.9653536546382796e-05}, 'MRT': {'weight': 0.00017359047940355914}, 'MUS': {'weight': 0.00023966420963961638}, 'MWI': {'weight': 8.440232268871084e-05}, 'MYS': {'weight': 0.014668761233282552}, 'NAM': {'weight': 0.00024095119177436843}, 'NCL': {'weight': 0.00456155442024341}, 'NER': {'weight': 0.008506292695570473}, 'NGA': {'weight': 0.0002174226064867621}, 'NIC': {'weight': 5.600980325270687e-05}, 'NLD': {'weight': 0.002882966329181653}, 'NOR': {'weight': 0.0014725742900018708}, 'NPL': {'weight': 9.15141765421064e-05}, 'NZL': {'weight': 0.005247928227199084}, 'OMN': {'weight': 0.0329010072667021}, 'PAK': {'weight': 0.0012918754246746857}, 'PAN': {'weight': 0.00034357066971235173}, 'PER': {'weight': 0.001008214763564964}, 'PHL': {'weight': 0.009996006312754593}, 'PNG': {'weight': 0.00805644656574768}, 'POL': {'weight': 0.00015752940477738688}, 'PRK': {'weight': 0.007299348684468212}, 'PRT': {'weight': 0.0008504332586410686}, 'PRY': {'weight': 5.640555962177141e-05}, 'PSE': {'weight': 3.9458000046736345e-05}, 'PYF': {'weight': 5.5178858450251835e-05}, 'QAT': {'weight': 0.05293100009324684}, 'ROU': {'weight': 0.00037480052724581873}, 'ROW': {'weight': 0.023595122606200784}, 'RUS': {'weight': 0.0017323897243934237}, 'RWA': {'weight': 6.410046326127458e-05}, 'SAU': {'weight': 0.011857688991428866}, 'SDS': {'weight': 0.00011102205346342198}, 'SEN': {'weight': 7.076799341720076e-05}, 'SGP': {'weight': 0.009419298529908322}, 'SLE': {'weight': 0.00018594596466852293}, 'SLV': {'weight': 9.827520578558707e-05}, 'SMR': {'weight': 0.00024642176832440137}, 'SOM': {'weight': 7.73872320667346e-05}, 'SRB': {'weight': 1.3833623280791943e-05}, 'STP': {'weight': 0.0009503314887645547}, 'SUD': {'weight': 8.704383060320915e-06}, 'SUR': {'weight': 0.00013094586108214782}, 'SVK': {'weight': 0.00017507631826246275}, 'SVN': {'weight': 0.0005547685646746333}, 'SWE': {'weight': 0.003123727677649628}, 'SWZ': {'weight': 0.014006605517381088}, 'SYC': {'weight': 0.0003776824926917827}, 'SYR': {'weight': 6.859366730652598e-05}, 'TCD': {'weight': 0.0001250569415300602}, 'TGO': {'weight': 0.00014759892840693155}, 'THA': {'weight': 0.00418958888364769}, 'TJK': {'weight': 0.0011399522916122984}, 'TKM': {'weight': 3.281893827744917e-05}, 'TTO': {'weight': 4.685748748798045e-05}, 'TUN': {'weight': 4.300844493458928e-05}, 'TUR': {'weight': 0.00031700861901278604}, 'TWN': {'weight': 0.007869363856904617}, 'TZA': {'weight': 0.0004993981199056365}, 'UGA': {'weight': 5.141706308646736e-05}, 'UKR': {'weight': 0.0018769562258061554}, 'URY': {'weight': 0.00010146143765406176}, 'USA': {'weight': 0.0014186469250273355}, 'USR': {'weight': 0.006871983924477782}, 'UZB': {'weight': 0.0022283712597573006}, 'VEN': {'weight': 0.00024112215799608047}, 'VGB': {'weight': 0.0004285481588148963}, 'VNM': {'weight': 0.0026714334999061538}, 'VUT': {'weight': 0.001997793101814178}, 'WSM': {'weight': 0.00048158611612078827}, 'YEM': {'weight': 0.010938719063983736}, 'ZAF': {'weight': 0.0035321333164988434}, 'ZMB': {'weight': 0.000626428372665697}, 'ZWE': {'weight': 0.0003149364968811403}}))"
      ]
     },
     "execution_count": 234,
     "metadata": {},
     "output_type": "execute_result"
    }
   ],
   "source": [
    "e.estimated_M['KOR'].items()"
   ]
  },
  {
   "cell_type": "code",
   "execution_count": 221,
   "metadata": {},
   "outputs": [
    {
     "data": {
      "text/plain": [
       "OutDegreeView({'ABW': 0.36602228259908043, 'AFG': 0.4796901610058105, 'AGO': 0.5050181661327501, 'ALB': 0.3455595069600028, 'AND': 0.42943926889152934, 'ANT': 0.35846421264749, 'ARE': 0.47361002117418444, 'ARG': 0.38377162234586465, 'ARM': 0.3239190291583719, 'ATG': 0.39771139037616315, 'AUS': 0.7088683424240623, 'AUT': 0.45060266541735355, 'AZE': 0.3904583414599202, 'BDI': 0.3766546023012995, 'BEL': 0.6956308433610819, 'BEN': 0.4315322726056965, 'BFA': 0.3836078905747025, 'BGD': 0.39800359855616596, 'BGR': 0.5275964412951141, 'BHR': 0.516185436517193, 'BHS': 0.33516240490557125, 'BIH': 0.3886751498062579, 'BLR': 0.2214360224144457, 'BLZ': 0.2877955286556278, 'BMU': 0.34019659144125647, 'BOL': 0.37815949355981227, 'BRA': 0.7747841839048849, 'BRB': 0.38165997060565876, 'BRN': 0.48903577769585627, 'BTN': 0.3858345471420485, 'BWA': 0.35790625563243633, 'CAF': 0.4297571751924953, 'CAN': 0.5529983530478623, 'CHE': 0.42477499383859885, 'CHL': 0.4403670386522116, 'CHN': 1.8629324256564261, 'CIV': 0.4072067922215069, 'CMR': 0.42082749891432836, 'COD': 0.525078143517594, 'COG': 0.46465522096422723, 'COL': 0.27343536662431717, 'CPV': 0.442721552844698, 'CRI': 0.410058747859775, 'CUB': 0.3430305140897579, 'CYM': 0.4174267144035968, 'CYP': 0.356277320766175, 'CZE': 0.5143351991110475, 'DEU': 1.9556554795106686, 'DJI': 0.4064541556130175, 'DNK': 0.5803949279342802, 'DOM': 0.34676341441692304, 'DZA': 0.29789070484990177, 'ECU': 0.3603833024933898, 'EGY': 0.33130621859194603, 'ERI': 0.44109268402028257, 'ESP': 0.8182106361510241, 'EST': 0.3907385320757664, 'ETH': 0.05965132143871894, 'FIN': 0.47298000690009523, 'FJI': 0.39151449767167334, 'FRA': 1.0256259228025513, 'GAB': 0.4568341275930781, 'GBR': 0.9864691047429597, 'GEO': 0.3325636444393543, 'GHA': 0.3312820208078991, 'GIN': 0.30360255543145404, 'GMB': 0.4948500511344649, 'GRC': 0.39927144896308153, 'GRL': 0.3979955178312541, 'GTM': 0.36189356211279855, 'GUY': 0.7832258688580084, 'HKG': 0.3207663581921197, 'HND': 0.4704372918808964, 'HRV': 0.4790845130102359, 'HTI': 0.40356471832055135, 'HUN': 0.389531392056064, 'IDN': 0.5067249555379485, 'IND': 0.8005829641485686, 'IRL': 0.34609427517885943, 'IRN': 0.5004981855588001, 'IRQ': 0.20231540117047317, 'ISL': 0.4161560110796147, 'ISR': 0.4587347632832372, 'ITA': 1.0805009415778366, 'JAM': 0.4122831854199298, 'JOR': 0.4248401416791479, 'JPN': 1.3144805813885356, 'KAZ': 0.47064585282764027, 'KEN': 0.33544656551557034, 'KGZ': 0.379003257120618, 'KHM': 0.4298078026005853, 'KOR': 1.1474963075799338, 'KWT': 0.4602473959235105, 'LAO': 0.3953115418088761, 'LBN': 0.31872492900684446, 'LBR': 0.343539049539959, 'LBY': 0.38377721212742566, 'LIE': 0.602719641941797, 'LKA': 0.29906448739094416, 'LSO': 0.406364613331728, 'LTU': 0.3170037158720998, 'LUX': 0.6108067016573048, 'LVA': 0.38666206030876343, 'MAC': 0.5410283955909537, 'MAR': 0.36852281728841724, 'MCO': 0.4628531627416356, 'MDA': 0.09467699496822193, 'MDG': 0.41154214581018556, 'MDV': 0.42361198147796725, 'MEX': 0.3713696969348011, 'MKD': 0.43605593600474063, 'MLI': 0.44851881973012525, 'MLT': 0.3127267847764013, 'MMR': 0.5827793044372622, 'MNE': 0.43275529534792556, 'MNG': 0.45849709812413003, 'MOZ': 0.32738872077451087, 'MRT': 0.38031035299873833, 'MUS': 0.29634583835124256, 'MWI': 0.42271651080660505, 'MYS': 0.4696254231224751, 'NAM': 0.3716559373323922, 'NCL': 0.38414100225631087, 'NER': 0.3256418758408519, 'NGA': 0.2097649704286948, 'NIC': 0.38542240257022026, 'NLD': 0.8771194074015397, 'NOR': 0.4487254799759927, 'NPL': 0.42045694710090187, 'NZL': 0.5064759078228306, 'OMN': 0.34788371834522847, 'PAK': 0.4568539781608219, 'PAN': 0.43025818200766525, 'PER': 0.4400639586186217, 'PHL': 0.32410720292656536, 'PNG': 0.4669698844484882, 'POL': 0.5535962874457261, 'PRK': 0.5154758801289154, 'PRT': 0.4256884776982852, 'PRY': 0.4891666784144642, 'PSE': 0.3258112654266909, 'PYF': 0.44078009231218995, 'QAT': 0.21076609711791405, 'ROU': 0.451134163885385, 'ROW': 3.8657761330061344, 'RUS': 1.0889105457393906, 'RWA': 0.41703504091924004, 'SAU': 0.4283551207770103, 'SDS': 0.5349634233865742, 'SEN': 0.365017910456535, 'SGP': 0.5898719119069542, 'SLE': 0.5284029081129896, 'SLV': 0.3031030591950589, 'SMR': 0.39508124666627226, 'SOM': 0.5043555228346341, 'SRB': 0.7187834603505764, 'STP': 0.3646494025621038, 'SUD': 0.498294553407908, 'SUR': 0.4103675744119881, 'SVK': 0.40143907821645447, 'SVN': 0.3734436476354839, 'SWE': 0.5462412460177197, 'SWZ': 0.3710044643805573, 'SYC': 0.3753954538267841, 'SYR': 0.4560163070155675, 'TCD': 0.5399671738201011, 'TGO': 0.4502858905619634, 'THA': 0.7111848250072631, 'TJK': 0.5539437917680062, 'TKM': 0.46418152703670035, 'TTO': 0.39339999436247025, 'TUN': 0.41270317640885584, 'TUR': 0.3840454767779853, 'TWN': 0.5486759532417473, 'TZA': 0.4443837679035167, 'UGA': 0.4345751283429314, 'UKR': 0.6282990202491503, 'URY': 0.3796954402733069, 'USA': 2.289835093572095, 'USR': 0.08438730335027635, 'UZB': 0.39518053869199327, 'VEN': 0.5241134685624252, 'VGB': 0.426242341041572, 'VNM': 0.4221294585016473, 'VUT': 0.4211204239228902, 'WSM': 0.41057904351286817, 'YEM': 0.37481201397092645, 'ZAF': 0.49244660950697344, 'ZMB': 0.43818409611737297, 'ZWE': 0.009890772963658133})"
      ]
     },
     "execution_count": 221,
     "metadata": {},
     "output_type": "execute_result"
    }
   ],
   "source": [
    "e.load_trade_network(year='2015')\n",
    "e.estimated_M.out_degree(weight='weight')"
   ]
  },
  {
   "cell_type": "code",
   "execution_count": 210,
   "metadata": {},
   "outputs": [],
   "source": [
    "df_list = []\n",
    "\n",
    "for network in A, B, M, e.estimated_M:\n",
    "    link_list = [(c1, c2, w['weight']) for c1, c2, w in network.edges(data=True)]\n",
    "    df_ = pd.DataFrame(link_list, columns = ['country_from', 'country_to', 'weight'])\n",
    "    df_.set_index(['country_from', 'country_to'], inplace=True)\n",
    "    \n",
    "    df_list.append(df_)\n",
    "    \n",
    "df = reduce(lambda df1,df2: pd.merge(df1,df2,on=['country_from', 'country_to'], how='outer'), df_list)\n",
    "df.columns = ['a_link', 'b_link', 'm_link', 'm_estimated_link']"
   ]
  },
  {
   "cell_type": "code",
   "execution_count": 213,
   "metadata": {},
   "outputs": [
    {
     "data": {
      "text/html": [
       "<div>\n",
       "<style scoped>\n",
       "    .dataframe tbody tr th:only-of-type {\n",
       "        vertical-align: middle;\n",
       "    }\n",
       "\n",
       "    .dataframe tbody tr th {\n",
       "        vertical-align: top;\n",
       "    }\n",
       "\n",
       "    .dataframe thead th {\n",
       "        text-align: right;\n",
       "    }\n",
       "</style>\n",
       "<table border=\"1\" class=\"dataframe\">\n",
       "  <thead>\n",
       "    <tr style=\"text-align: right;\">\n",
       "      <th></th>\n",
       "      <th></th>\n",
       "      <th>a_link</th>\n",
       "      <th>b_link</th>\n",
       "      <th>m_link</th>\n",
       "      <th>m_estimated_link</th>\n",
       "    </tr>\n",
       "    <tr>\n",
       "      <th>country_from</th>\n",
       "      <th>country_to</th>\n",
       "      <th></th>\n",
       "      <th></th>\n",
       "      <th></th>\n",
       "      <th></th>\n",
       "    </tr>\n",
       "  </thead>\n",
       "  <tbody>\n",
       "    <tr>\n",
       "      <th>STP</th>\n",
       "      <th>EST</th>\n",
       "      <td>0.001310</td>\n",
       "      <td>0.000021</td>\n",
       "      <td>0.000000</td>\n",
       "      <td>2.672545e-06</td>\n",
       "    </tr>\n",
       "    <tr>\n",
       "      <th rowspan=\"2\" valign=\"top\">MDV</th>\n",
       "      <th>LVA</th>\n",
       "      <td>0.000196</td>\n",
       "      <td>0.000018</td>\n",
       "      <td>0.000000</td>\n",
       "      <td>1.417323e-07</td>\n",
       "    </tr>\n",
       "    <tr>\n",
       "      <th>LUX</th>\n",
       "      <td>0.000133</td>\n",
       "      <td>0.000004</td>\n",
       "      <td>0.000000</td>\n",
       "      <td>2.974317e-08</td>\n",
       "    </tr>\n",
       "    <tr>\n",
       "      <th>CHL</th>\n",
       "      <th>CHL</th>\n",
       "      <td>0.373862</td>\n",
       "      <td>0.365353</td>\n",
       "      <td>0.000000</td>\n",
       "      <td>0.000000e+00</td>\n",
       "    </tr>\n",
       "    <tr>\n",
       "      <th>MDV</th>\n",
       "      <th>HUN</th>\n",
       "      <td>0.000162</td>\n",
       "      <td>0.000003</td>\n",
       "      <td>0.000000</td>\n",
       "      <td>2.116014e-08</td>\n",
       "    </tr>\n",
       "    <tr>\n",
       "      <th>...</th>\n",
       "      <th>...</th>\n",
       "      <td>...</td>\n",
       "      <td>...</td>\n",
       "      <td>...</td>\n",
       "      <td>...</td>\n",
       "    </tr>\n",
       "    <tr>\n",
       "      <th>ROU</th>\n",
       "      <th>DEU</th>\n",
       "      <td>0.017973</td>\n",
       "      <td>0.000799</td>\n",
       "      <td>0.024291</td>\n",
       "      <td>4.791110e-05</td>\n",
       "    </tr>\n",
       "    <tr>\n",
       "      <th>BGR</th>\n",
       "      <th>DEU</th>\n",
       "      <td>0.015497</td>\n",
       "      <td>0.000242</td>\n",
       "      <td>0.025879</td>\n",
       "      <td>2.157991e-05</td>\n",
       "    </tr>\n",
       "    <tr>\n",
       "      <th>WSM</th>\n",
       "      <th>NZL</th>\n",
       "      <td>0.013978</td>\n",
       "      <td>0.000056</td>\n",
       "      <td>0.031667</td>\n",
       "      <td>2.272690e-05</td>\n",
       "    </tr>\n",
       "    <tr>\n",
       "      <th>ALB</th>\n",
       "      <th>DEU</th>\n",
       "      <td>0.005038</td>\n",
       "      <td>0.000014</td>\n",
       "      <td>0.053787</td>\n",
       "      <td>2.799719e-06</td>\n",
       "    </tr>\n",
       "    <tr>\n",
       "      <th>SYR</th>\n",
       "      <th>DEU</th>\n",
       "      <td>0.007129</td>\n",
       "      <td>0.000093</td>\n",
       "      <td>0.058591</td>\n",
       "      <td>1.673399e-06</td>\n",
       "    </tr>\n",
       "  </tbody>\n",
       "</table>\n",
       "<p>4249 rows × 4 columns</p>\n",
       "</div>"
      ],
      "text/plain": [
       "                           a_link    b_link    m_link  m_estimated_link\n",
       "country_from country_to                                                \n",
       "STP          EST         0.001310  0.000021  0.000000      2.672545e-06\n",
       "MDV          LVA         0.000196  0.000018  0.000000      1.417323e-07\n",
       "             LUX         0.000133  0.000004  0.000000      2.974317e-08\n",
       "CHL          CHL         0.373862  0.365353  0.000000      0.000000e+00\n",
       "MDV          HUN         0.000162  0.000003  0.000000      2.116014e-08\n",
       "...                           ...       ...       ...               ...\n",
       "ROU          DEU         0.017973  0.000799  0.024291      4.791110e-05\n",
       "BGR          DEU         0.015497  0.000242  0.025879      2.157991e-05\n",
       "WSM          NZL         0.013978  0.000056  0.031667      2.272690e-05\n",
       "ALB          DEU         0.005038  0.000014  0.053787      2.799719e-06\n",
       "SYR          DEU         0.007129  0.000093  0.058591      1.673399e-06\n",
       "\n",
       "[4249 rows x 4 columns]"
      ]
     },
     "execution_count": 213,
     "metadata": {},
     "output_type": "execute_result"
    }
   ],
   "source": [
    "df.dropna().sort_values(by='m_link')"
   ]
  },
  {
   "cell_type": "code",
   "execution_count": 214,
   "metadata": {},
   "outputs": [
    {
     "data": {
      "text/html": [
       "<div>\n",
       "<style scoped>\n",
       "    .dataframe tbody tr th:only-of-type {\n",
       "        vertical-align: middle;\n",
       "    }\n",
       "\n",
       "    .dataframe tbody tr th {\n",
       "        vertical-align: top;\n",
       "    }\n",
       "\n",
       "    .dataframe thead th {\n",
       "        text-align: right;\n",
       "    }\n",
       "</style>\n",
       "<table border=\"1\" class=\"dataframe\">\n",
       "  <thead>\n",
       "    <tr style=\"text-align: right;\">\n",
       "      <th></th>\n",
       "      <th>a_link</th>\n",
       "      <th>b_link</th>\n",
       "      <th>m_link</th>\n",
       "      <th>m_estimated_link</th>\n",
       "    </tr>\n",
       "  </thead>\n",
       "  <tbody>\n",
       "    <tr>\n",
       "      <th>count</th>\n",
       "      <td>4.249000e+03</td>\n",
       "      <td>4.249000e+03</td>\n",
       "      <td>4.249000e+03</td>\n",
       "      <td>4.249000e+03</td>\n",
       "    </tr>\n",
       "    <tr>\n",
       "      <th>mean</th>\n",
       "      <td>2.667199e-03</td>\n",
       "      <td>1.674946e-03</td>\n",
       "      <td>2.029331e-04</td>\n",
       "      <td>4.018081e-05</td>\n",
       "    </tr>\n",
       "    <tr>\n",
       "      <th>std</th>\n",
       "      <td>1.717074e-02</td>\n",
       "      <td>1.626235e-02</td>\n",
       "      <td>1.629217e-03</td>\n",
       "      <td>1.939442e-04</td>\n",
       "    </tr>\n",
       "    <tr>\n",
       "      <th>min</th>\n",
       "      <td>7.177867e-07</td>\n",
       "      <td>2.904838e-08</td>\n",
       "      <td>0.000000e+00</td>\n",
       "      <td>0.000000e+00</td>\n",
       "    </tr>\n",
       "    <tr>\n",
       "      <th>25%</th>\n",
       "      <td>9.491331e-05</td>\n",
       "      <td>4.084236e-06</td>\n",
       "      <td>6.495946e-07</td>\n",
       "      <td>1.566401e-07</td>\n",
       "    </tr>\n",
       "    <tr>\n",
       "      <th>50%</th>\n",
       "      <td>3.610110e-04</td>\n",
       "      <td>2.467162e-05</td>\n",
       "      <td>7.189137e-06</td>\n",
       "      <td>1.128922e-06</td>\n",
       "    </tr>\n",
       "    <tr>\n",
       "      <th>75%</th>\n",
       "      <td>1.449650e-03</td>\n",
       "      <td>2.525392e-04</td>\n",
       "      <td>4.690202e-05</td>\n",
       "      <td>8.672826e-06</td>\n",
       "    </tr>\n",
       "    <tr>\n",
       "      <th>max</th>\n",
       "      <td>4.265551e-01</td>\n",
       "      <td>4.188109e-01</td>\n",
       "      <td>5.859059e-02</td>\n",
       "      <td>4.465720e-03</td>\n",
       "    </tr>\n",
       "  </tbody>\n",
       "</table>\n",
       "</div>"
      ],
      "text/plain": [
       "             a_link        b_link        m_link  m_estimated_link\n",
       "count  4.249000e+03  4.249000e+03  4.249000e+03      4.249000e+03\n",
       "mean   2.667199e-03  1.674946e-03  2.029331e-04      4.018081e-05\n",
       "std    1.717074e-02  1.626235e-02  1.629217e-03      1.939442e-04\n",
       "min    7.177867e-07  2.904838e-08  0.000000e+00      0.000000e+00\n",
       "25%    9.491331e-05  4.084236e-06  6.495946e-07      1.566401e-07\n",
       "50%    3.610110e-04  2.467162e-05  7.189137e-06      1.128922e-06\n",
       "75%    1.449650e-03  2.525392e-04  4.690202e-05      8.672826e-06\n",
       "max    4.265551e-01  4.188109e-01  5.859059e-02      4.465720e-03"
      ]
     },
     "execution_count": 214,
     "metadata": {},
     "output_type": "execute_result"
    }
   ],
   "source": [
    "df.dropna().describe(include='all')"
   ]
  }
 ],
 "metadata": {
  "interpreter": {
   "hash": "0137509aeee41b6d8245b86b24b32564e2f855d484a78439eac598d962178cd4"
  },
  "kernelspec": {
   "display_name": "Python 3",
   "language": "python",
   "name": "python3"
  },
  "language_info": {
   "codemirror_mode": {
    "name": "ipython",
    "version": 3
   },
   "file_extension": ".py",
   "mimetype": "text/x-python",
   "name": "python",
   "nbconvert_exporter": "python",
   "pygments_lexer": "ipython3",
   "version": "3.7.4"
  }
 },
 "nbformat": 4,
 "nbformat_minor": 2
}
