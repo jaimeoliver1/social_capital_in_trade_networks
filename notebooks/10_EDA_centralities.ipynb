{
 "cells": [
  {
   "cell_type": "code",
   "execution_count": 1,
   "source": [
    "try:\n",
    "    output_filepath\n",
    "except:\n",
    "    output_filepath = '../data/processed/'"
   ],
   "outputs": [],
   "metadata": {}
  },
  {
   "cell_type": "code",
   "execution_count": 2,
   "source": [
    "import os\n",
    "from pathlib import Path\n",
    "\n",
    "import pandas as pd\n",
    "import numpy as np\n",
    "\n",
    "import matplotlib.pyplot as plt\n",
    "import seaborn as sns\n",
    "sns.set_theme()\n"
   ],
   "outputs": [],
   "metadata": {}
  },
  {
   "cell_type": "code",
   "execution_count": 31,
   "source": [
    "data_path = os.path.join(output_filepath, 'panel_data.parquet')\n",
    "df_model = pd.read_parquet(data_path)\n",
    "centralities = ['authorities', 'hubs', 'pagerank', 'gfi', 'bridging', 'favor']\n",
    "\n",
    "df_model.eval('gdp_per_capita = gdp/wkn_population', inplace=True)\n",
    "df_model.eval('productivity = gdp*10**6/(wkn_population*GFCF)', inplace=True)\n",
    "\n",
    "adf_model['receiving_cuntries'] = df_model.groupby('country').human_authorities_cero.transform(lambda x: sum(x)<len(x))\n",
    "\n",
    "#df_model = df_model[df_model.country!='GUY']"
   ],
   "outputs": [],
   "metadata": {}
  },
  {
   "cell_type": "code",
   "execution_count": 54,
   "source": [
    "network = 'human'\n",
    "#network = 'financial'\n",
    "#network = 'goods'\n",
    "\n",
    "centrality = 'hubs'\n",
    "#centrality = 'authorities'\n",
    "#centrality = 'pagerank'\n",
    "#centrality = 'favor'\n",
    "#centrality = 'bridging'\n",
    "\n",
    "x_var = 'productivity'\n",
    "x_var = 'gdp_per_capita'\n",
    "\n",
    "x_var = f'financial_hubs'\n",
    "y_var = f'{network}_{centrality}'\n",
    "\n",
    "df_plot =  df_model[df_model.year.between(2001, 2016)]\n",
    "df_plot =  df_model[df_model.year == 2015]\n",
    "\n",
    "#df_plot = df_plot[df_plot.receiving_cuntries]\n",
    "\n",
    "for c in [x_var, y_var]:\n",
    "    df_plot[c] = df_plot[c].map(lambda x: np.log1p(x*1.e8))\n",
    "\n",
    "fig, ax = plt.subplots(figsize=(8,8))\n",
    "sns.scatterplot(data=df_plot, x=x_var, y=y_var, ax=ax)\n",
    "\n",
    "def label_point(x, y, val, ax):\n",
    "    a = pd.concat({'x': x, 'y': y, 'val': val}, axis=1)\n",
    "    for i, point in a.iterrows():\n",
    "        ax.text(point['x'], point['y'], str(point['val']))\n",
    "\n",
    "label_point(df_plot[x_var], df_plot[y_var], df_plot['country'], plt.gca())"
   ],
   "outputs": [
    {
     "output_type": "stream",
     "name": "stderr",
     "text": [
      "/Users/jaime/.virtualenvs/social_capital_in_trade_networks/lib/python3.7/site-packages/ipykernel_launcher.py:23: SettingWithCopyWarning: \n",
      "A value is trying to be set on a copy of a slice from a DataFrame.\n",
      "Try using .loc[row_indexer,col_indexer] = value instead\n",
      "\n",
      "See the caveats in the documentation: https://pandas.pydata.org/pandas-docs/stable/user_guide/indexing.html#returning-a-view-versus-a-copy\n"
     ]
    }
   ],
   "metadata": {}
  },
  {
   "cell_type": "code",
   "execution_count": 52,
   "source": [
    "df_plot = df_model[df_model.receiving_cuntries].copy()\n",
    "df_plot['human_favor'] = df_plot['human_favor'].map(lambda x: np.log1p(x*1.e8))\n",
    "sns.displot(data = df_plot, x = 'human_favor') "
   ],
   "outputs": [
    {
     "output_type": "execute_result",
     "data": {
      "text/plain": [
       "<seaborn.axisgrid.FacetGrid at 0x139944d10>"
      ]
     },
     "metadata": {},
     "execution_count": 52
    },
    {
     "output_type": "display_data",
     "data": {
      "text/plain": [
       "<Figure size 360x360 with 1 Axes>"
      ],
      "image/png": "[encoded data removed]"
     },
     "metadata": {}
    }
   ],
   "metadata": {}
  },
  {
   "cell_type": "markdown",
   "source": [
    "## Deep dive human hits"
   ],
   "metadata": {}
  },
  {
   "cell_type": "code",
   "execution_count": 6,
   "source": [
    "df_model.human_authorities.map(lambda x: np.log1p(x*1.e6)).plot(kind='kde')"
   ],
   "outputs": [
    {
     "output_type": "execute_result",
     "data": {
      "text/plain": [
       "<AxesSubplot:ylabel='Density'>"
      ]
     },
     "metadata": {},
     "execution_count": 6
    },
    {
     "output_type": "display_data",
     "data": {
      "text/plain": [
       "<Figure size 432x288 with 1 Axes>"
      ],
      "image/png": "[encoded data removed]"
     },
     "metadata": {}
    }
   ],
   "metadata": {}
  },
  {
   "cell_type": "code",
   "execution_count": 7,
   "source": [
    "df_model.groupby('country').human_authorities_cero.nunique().sort_values().tail(10)"
   ],
   "outputs": [
    {
     "output_type": "execute_result",
     "data": {
      "text/plain": [
       "country\n",
       "FRA    2\n",
       "GBR    2\n",
       "CHL    2\n",
       "CHE    2\n",
       "CAN    2\n",
       "MEX    2\n",
       "SVK    2\n",
       "SVN    2\n",
       "FIN    2\n",
       "ITA    2\n",
       "Name: human_authorities_cero, dtype: int64"
      ]
     },
     "metadata": {},
     "execution_count": 7
    }
   ],
   "metadata": {}
  },
  {
   "cell_type": "code",
   "execution_count": 8,
   "source": [
    "df_model.groupby('country').year.nunique().sort_values()"
   ],
   "outputs": [
    {
     "output_type": "execute_result",
     "data": {
      "text/plain": [
       "country\n",
       "ERI    12\n",
       "AFG    19\n",
       "MWI    19\n",
       "MYS    19\n",
       "NAM    19\n",
       "       ..\n",
       "GMB    19\n",
       "GRC    19\n",
       "GTM    19\n",
       "FRA    19\n",
       "ZWE    19\n",
       "Name: year, Length: 171, dtype: int64"
      ]
     },
     "metadata": {},
     "execution_count": 8
    }
   ],
   "metadata": {}
  },
  {
   "cell_type": "code",
   "execution_count": 9,
   "source": [
    "df_model[df_model.receiving_cuntries].groupby('country').human_authorities_cero.nunique()"
   ],
   "outputs": [
    {
     "output_type": "execute_result",
     "data": {
      "text/plain": [
       "country\n",
       "AUS    1\n",
       "AUT    2\n",
       "BEL    2\n",
       "CAN    2\n",
       "CHE    2\n",
       "CHL    2\n",
       "CZE    2\n",
       "DEU    2\n",
       "DNK    2\n",
       "ESP    2\n",
       "EST    2\n",
       "FIN    2\n",
       "FRA    2\n",
       "GBR    2\n",
       "GRC    2\n",
       "HUN    2\n",
       "IRL    2\n",
       "ISL    2\n",
       "ISR    2\n",
       "ITA    2\n",
       "JPN    2\n",
       "KOR    2\n",
       "LUX    2\n",
       "LVA    2\n",
       "MEX    2\n",
       "NLD    2\n",
       "NOR    2\n",
       "NZL    2\n",
       "POL    2\n",
       "PRT    2\n",
       "SVK    2\n",
       "SVN    2\n",
       "SWE    2\n",
       "TUR    2\n",
       "USA    2\n",
       "Name: human_authorities_cero, dtype: int64"
      ]
     },
     "metadata": {},
     "execution_count": 9
    }
   ],
   "metadata": {}
  }
 ],
 "metadata": {
  "interpreter": {
   "hash": "0137509aeee41b6d8245b86b24b32564e2f855d484a78439eac598d962178cd4"
  },
  "kernelspec": {
   "display_name": "Python 3.7.7 64-bit ('social_capital_in_trade_networks': virtualenvwrapper)",
   "name": "python3"
  },
  "language_info": {
   "codemirror_mode": {
    "name": "ipython",
    "version": 3
   },
   "file_extension": ".py",
   "mimetype": "text/x-python",
   "name": "python",
   "nbconvert_exporter": "python",
   "pygments_lexer": "ipython3",
   "version": "3.7.7"
  }
 },
 "nbformat": 4,
 "nbformat_minor": 2
}